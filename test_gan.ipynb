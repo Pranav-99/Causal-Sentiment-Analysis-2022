{
 "cells": [
  {
   "cell_type": "code",
   "execution_count": 1,
   "metadata": {},
   "outputs": [],
   "source": [
    "import numpy as np\n",
    "import torch\n",
    "from models.GAN import *\n",
    "device = 'cuda:0'"
   ]
  },
  {
   "cell_type": "code",
   "execution_count": 2,
   "metadata": {},
   "outputs": [],
   "source": [
    "gan_config = {}\n",
    "gan_config['device'] = device\n",
    "gan_config['g_input_dim'] = 4\n",
    "gan_config['g_hidden_dim'] = 8\n",
    "gan_config['g_output_dim'] = 4\n",
    "gan_config['d_hidden_dim'] = 4\n",
    "gan_config['d_output_dim'] = 1\n",
    "gan_config['g_lr'] = 0.001\n",
    "gan_config['d_lr'] = 0.001\n",
    "gan_config['epochs'] = 50\n",
    "gan_config['gamma'] = 0.01\n",
    "\n",
    "gan_config['batch_size'] = 64 "
   ]
  },
  {
   "cell_type": "code",
   "execution_count": 3,
   "metadata": {},
   "outputs": [],
   "source": [
    "\n",
    "gan = GANmodel(gan_config)"
   ]
  },
  {
   "cell_type": "code",
   "execution_count": 4,
   "metadata": {},
   "outputs": [],
   "source": [
    "train_data = torch.tensor(np.random.randn(10000,4),dtype=torch.float,requires_grad=False)\n",
    "valid_data = torch.tensor(np.random.randn(10000,4),dtype=torch.float,requires_grad=False)\n"
   ]
  },
  {
   "cell_type": "code",
   "execution_count": 5,
   "metadata": {},
   "outputs": [
    {
     "data": {
      "text/plain": [
       "torch.Size([10000, 4])"
      ]
     },
     "execution_count": 5,
     "metadata": {},
     "output_type": "execute_result"
    }
   ],
   "source": [
    "valid_data.shape"
   ]
  },
  {
   "cell_type": "code",
   "execution_count": 6,
   "metadata": {},
   "outputs": [
    {
     "name": "stdout",
     "output_type": "stream",
     "text": [
      "Batch real shape:  torch.Size([64, 4])\n"
     ]
    },
    {
     "ename": "RuntimeError",
     "evalue": "CUDA error: device-side assert triggered\nCUDA kernel errors might be asynchronously reported at some other API call,so the stacktrace below might be incorrect.\nFor debugging consider passing CUDA_LAUNCH_BLOCKING=1.",
     "output_type": "error",
     "traceback": [
      "\u001b[1;31m---------------------------------------------------------------------------\u001b[0m",
      "\u001b[1;31mRuntimeError\u001b[0m                              Traceback (most recent call last)",
      "\u001b[1;32mc:\\Users\\prana\\Carnegie Mellon University\\Spring 22\\PGM\\Project\\Causal-Sentiment-Analysis-2022\\test_gan.ipynb Cell 6'\u001b[0m in \u001b[0;36m<cell line: 1>\u001b[1;34m()\u001b[0m\n\u001b[1;32m----> <a href='vscode-notebook-cell:/c%3A/Users/prana/Carnegie%20Mellon%20University/Spring%2022/PGM/Project/Causal-Sentiment-Analysis-2022/test_gan.ipynb#ch0000007?line=0'>1</a>\u001b[0m gan\u001b[39m.\u001b[39;49mtrain(train_data,valid_data)\n",
      "File \u001b[1;32mc:\\Users\\prana\\Carnegie Mellon University\\Spring 22\\PGM\\Project\\Causal-Sentiment-Analysis-2022\\models\\GAN.py:110\u001b[0m, in \u001b[0;36mGANmodel.train\u001b[1;34m(self, train_data, validation_data)\u001b[0m\n\u001b[0;32m    <a href='file:///c%3A/Users/prana/Carnegie%20Mellon%20University/Spring%2022/PGM/Project/Causal-Sentiment-Analysis-2022/models/GAN.py?line=107'>108</a>\u001b[0m d_output_real \u001b[39m=\u001b[39m \u001b[39mself\u001b[39m\u001b[39m.\u001b[39md(batch_real) \n\u001b[0;32m    <a href='file:///c%3A/Users/prana/Carnegie%20Mellon%20University/Spring%2022/PGM/Project/Causal-Sentiment-Analysis-2022/models/GAN.py?line=108'>109</a>\u001b[0m loss_real_d \u001b[39m=\u001b[39m loss_fn(d_output_real , labels_real) \n\u001b[1;32m--> <a href='file:///c%3A/Users/prana/Carnegie%20Mellon%20University/Spring%2022/PGM/Project/Causal-Sentiment-Analysis-2022/models/GAN.py?line=109'>110</a>\u001b[0m loss_real_d\u001b[39m.\u001b[39;49mbackward()\n\u001b[0;32m    <a href='file:///c%3A/Users/prana/Carnegie%20Mellon%20University/Spring%2022/PGM/Project/Causal-Sentiment-Analysis-2022/models/GAN.py?line=111'>112</a>\u001b[0m loss_d_train \u001b[39m+\u001b[39m\u001b[39m=\u001b[39m loss_real_d\u001b[39m.\u001b[39mdetach()\u001b[39m.\u001b[39mcpu()\u001b[39m.\u001b[39mnumpy() \u001b[39m# detach is not inplace so we are not losing gradient information\u001b[39;00m\n\u001b[0;32m    <a href='file:///c%3A/Users/prana/Carnegie%20Mellon%20University/Spring%2022/PGM/Project/Causal-Sentiment-Analysis-2022/models/GAN.py?line=113'>114</a>\u001b[0m d_output_fake \u001b[39m=\u001b[39m \u001b[39mself\u001b[39m\u001b[39m.\u001b[39md(batch_fake) \n",
      "File \u001b[1;32m~\\miniconda3\\envs\\latentlabelshift\\lib\\site-packages\\torch\\_tensor.py:363\u001b[0m, in \u001b[0;36mTensor.backward\u001b[1;34m(self, gradient, retain_graph, create_graph, inputs)\u001b[0m\n\u001b[0;32m    <a href='file:///c%3A/Users/prana/miniconda3/envs/latentlabelshift/lib/site-packages/torch/_tensor.py?line=353'>354</a>\u001b[0m \u001b[39mif\u001b[39;00m has_torch_function_unary(\u001b[39mself\u001b[39m):\n\u001b[0;32m    <a href='file:///c%3A/Users/prana/miniconda3/envs/latentlabelshift/lib/site-packages/torch/_tensor.py?line=354'>355</a>\u001b[0m     \u001b[39mreturn\u001b[39;00m handle_torch_function(\n\u001b[0;32m    <a href='file:///c%3A/Users/prana/miniconda3/envs/latentlabelshift/lib/site-packages/torch/_tensor.py?line=355'>356</a>\u001b[0m         Tensor\u001b[39m.\u001b[39mbackward,\n\u001b[0;32m    <a href='file:///c%3A/Users/prana/miniconda3/envs/latentlabelshift/lib/site-packages/torch/_tensor.py?line=356'>357</a>\u001b[0m         (\u001b[39mself\u001b[39m,),\n\u001b[1;32m   (...)\u001b[0m\n\u001b[0;32m    <a href='file:///c%3A/Users/prana/miniconda3/envs/latentlabelshift/lib/site-packages/torch/_tensor.py?line=360'>361</a>\u001b[0m         create_graph\u001b[39m=\u001b[39mcreate_graph,\n\u001b[0;32m    <a href='file:///c%3A/Users/prana/miniconda3/envs/latentlabelshift/lib/site-packages/torch/_tensor.py?line=361'>362</a>\u001b[0m         inputs\u001b[39m=\u001b[39minputs)\n\u001b[1;32m--> <a href='file:///c%3A/Users/prana/miniconda3/envs/latentlabelshift/lib/site-packages/torch/_tensor.py?line=362'>363</a>\u001b[0m torch\u001b[39m.\u001b[39;49mautograd\u001b[39m.\u001b[39;49mbackward(\u001b[39mself\u001b[39;49m, gradient, retain_graph, create_graph, inputs\u001b[39m=\u001b[39;49minputs)\n",
      "File \u001b[1;32m~\\miniconda3\\envs\\latentlabelshift\\lib\\site-packages\\torch\\autograd\\__init__.py:173\u001b[0m, in \u001b[0;36mbackward\u001b[1;34m(tensors, grad_tensors, retain_graph, create_graph, grad_variables, inputs)\u001b[0m\n\u001b[0;32m    <a href='file:///c%3A/Users/prana/miniconda3/envs/latentlabelshift/lib/site-packages/torch/autograd/__init__.py?line=167'>168</a>\u001b[0m     retain_graph \u001b[39m=\u001b[39m create_graph\n\u001b[0;32m    <a href='file:///c%3A/Users/prana/miniconda3/envs/latentlabelshift/lib/site-packages/torch/autograd/__init__.py?line=169'>170</a>\u001b[0m \u001b[39m# The reason we repeat same the comment below is that\u001b[39;00m\n\u001b[0;32m    <a href='file:///c%3A/Users/prana/miniconda3/envs/latentlabelshift/lib/site-packages/torch/autograd/__init__.py?line=170'>171</a>\u001b[0m \u001b[39m# some Python versions print out the first line of a multi-line function\u001b[39;00m\n\u001b[0;32m    <a href='file:///c%3A/Users/prana/miniconda3/envs/latentlabelshift/lib/site-packages/torch/autograd/__init__.py?line=171'>172</a>\u001b[0m \u001b[39m# calls in the traceback and some print out the last line\u001b[39;00m\n\u001b[1;32m--> <a href='file:///c%3A/Users/prana/miniconda3/envs/latentlabelshift/lib/site-packages/torch/autograd/__init__.py?line=172'>173</a>\u001b[0m Variable\u001b[39m.\u001b[39;49m_execution_engine\u001b[39m.\u001b[39;49mrun_backward(  \u001b[39m# Calls into the C++ engine to run the backward pass\u001b[39;49;00m\n\u001b[0;32m    <a href='file:///c%3A/Users/prana/miniconda3/envs/latentlabelshift/lib/site-packages/torch/autograd/__init__.py?line=173'>174</a>\u001b[0m     tensors, grad_tensors_, retain_graph, create_graph, inputs,\n\u001b[0;32m    <a href='file:///c%3A/Users/prana/miniconda3/envs/latentlabelshift/lib/site-packages/torch/autograd/__init__.py?line=174'>175</a>\u001b[0m     allow_unreachable\u001b[39m=\u001b[39;49m\u001b[39mTrue\u001b[39;49;00m, accumulate_grad\u001b[39m=\u001b[39;49m\u001b[39mTrue\u001b[39;49;00m)\n",
      "\u001b[1;31mRuntimeError\u001b[0m: CUDA error: device-side assert triggered\nCUDA kernel errors might be asynchronously reported at some other API call,so the stacktrace below might be incorrect.\nFor debugging consider passing CUDA_LAUNCH_BLOCKING=1."
     ]
    }
   ],
   "source": [
    "gan.train(train_data,valid_data)"
   ]
  },
  {
   "cell_type": "code",
   "execution_count": 9,
   "metadata": {},
   "outputs": [],
   "source": [
    "gan.d(train_data[:16].to(device))"
   ]
  },
  {
   "cell_type": "code",
   "execution_count": 8,
   "metadata": {},
   "outputs": [
    {
     "ename": "AttributeError",
     "evalue": "type object 'GANmodel' has no attribute 'd'",
     "output_type": "error",
     "traceback": [
      "\u001b[1;31m---------------------------------------------------------------------------\u001b[0m",
      "\u001b[1;31mAttributeError\u001b[0m                            Traceback (most recent call last)",
      "\u001b[1;32mc:\\Users\\prana\\Carnegie Mellon University\\Spring 22\\PGM\\Project\\Causal-Sentiment-Analysis-2022\\test_gan.ipynb Cell 8'\u001b[0m in \u001b[0;36m<cell line: 1>\u001b[1;34m()\u001b[0m\n\u001b[1;32m----> <a href='vscode-notebook-cell:/c%3A/Users/prana/Carnegie%20Mellon%20University/Spring%2022/PGM/Project/Causal-Sentiment-Analysis-2022/test_gan.ipynb#ch0000010?line=0'>1</a>\u001b[0m GANmodel\u001b[39m.\u001b[39;49md\n",
      "\u001b[1;31mAttributeError\u001b[0m: type object 'GANmodel' has no attribute 'd'"
     ]
    }
   ],
   "source": [
    "GANmodel.d"
   ]
  },
  {
   "cell_type": "code",
   "execution_count": null,
   "metadata": {},
   "outputs": [],
   "source": []
  }
 ],
 "metadata": {
  "interpreter": {
   "hash": "5d85aed41cb6b69d074150102c20ccb14ff3936b2de056b1d1fcb2d5778a3514"
  },
  "kernelspec": {
   "display_name": "Python 3.9.7 ('latentlabelshift')",
   "language": "python",
   "name": "python3"
  },
  "language_info": {
   "codemirror_mode": {
    "name": "ipython",
    "version": 3
   },
   "file_extension": ".py",
   "mimetype": "text/x-python",
   "name": "python",
   "nbconvert_exporter": "python",
   "pygments_lexer": "ipython3",
   "version": "3.9.7"
  },
  "orig_nbformat": 4
 },
 "nbformat": 4,
 "nbformat_minor": 2
}
