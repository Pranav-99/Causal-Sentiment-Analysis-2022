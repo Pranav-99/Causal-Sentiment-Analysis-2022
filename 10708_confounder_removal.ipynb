{
  "cells": [
    {
      "cell_type": "code",
      "execution_count": 1,
      "metadata": {
        "colab": {
          "base_uri": "https://localhost:8080/"
        },
        "id": "5eLYZWL4wXZ1",
        "outputId": "bcb3b139-f222-46a0-a117-bf2527c34850"
      },
      "outputs": [
        {
          "output_type": "stream",
          "name": "stdout",
          "text": [
            "Drive already mounted at /content/drive; to attempt to forcibly remount, call drive.mount(\"/content/drive\", force_remount=True).\n",
            "/content/drive/.shortcut-targets-by-id/14Gdouwq1YbxwJPoIAfI-AnPNaIq3hw2L/10708 Project\n"
          ]
        }
      ],
      "source": [
        "from google.colab import drive\n",
        "drive.mount('/content/drive')\n",
        "\n",
        "%cd /content/drive/MyDrive/10708\\ Project/"
      ]
    },
    {
      "cell_type": "code",
      "execution_count": 2,
      "metadata": {
        "id": "g0QX0rv-wmLr"
      },
      "outputs": [],
      "source": [
        "import numpy as np \n",
        "import pandas as pd \n",
        "from sklearn.feature_extraction.text import CountVectorizer\n",
        "from keras.preprocessing.text import Tokenizer\n",
        "from keras.preprocessing.sequence import pad_sequences\n",
        "from keras.utils.np_utils import to_categorical\n",
        "from sklearn.model_selection import train_test_split\n",
        "import re\n",
        "import torch\n",
        "import torch.nn as nn\n",
        "from collections import Counter\n",
        "import tqdm\n",
        "import random\n",
        "import pickle\n",
        "from nltk.tokenize import wordpunct_tokenize\n",
        "from sklearn.metrics import confusion_matrix, accuracy_score\n",
        "\n",
        "random.seed(0)\n",
        "torch.manual_seed(0)\n",
        "np.random.seed(0)\n",
        "\n",
        "\n",
        "class Model(nn.Module):\n",
        "    def __init__(self, embed_dim=128, gru_out=128, z_dim=1):\n",
        "\n",
        "        super(Model, self).__init__()\n",
        "        self.embed_dim = embed_dim\n",
        "        self.gru_out = gru_out\n",
        "        self.z_dim = z_dim\n",
        "\n",
        "        self.gru = nn.Sequential(\n",
        "            nn.Embedding(2000, embed_dim),\n",
        "            nn.GRU(embed_dim, gru_out, bidirectional=True, batch_first=True),\n",
        "        )\n",
        "\n",
        "        self.classifier = nn.Linear((2*gru_out)+z_dim, 1)\n",
        "\n",
        "    def forward(self, x, z):\n",
        "        x = self.gru(x)[1].transpose(0, 1).contiguous().view((x.shape[0], -1))\n",
        "        assert(x.shape == (z.shape[0], self.gru_out*2))\n",
        "        x = torch.cat((x, z), dim=1)\n",
        "        x = self.classifier(x)\n",
        "        return x\n",
        "\n",
        "    def forward_all_z(self, x, all_z, p_z):\n",
        "        batch_size = x.size(0)\n",
        "        x = self.gru(x)[1].transpose(0, 1).contiguous().view((x.shape[0], -1))\n",
        "\n",
        "        output = torch.zeros((batch_size, 1)).cuda()\n",
        "        model_outputs = []\n",
        "        for p_zi, z_val in zip(p_z, all_z):\n",
        "            z_val = torch.unsqueeze(z_val, 0).repeat((batch_size, 1))\n",
        "            x_z = torch.cat((x, z_val), dim=1)\n",
        "            model_out_z = self.classifier(x_z)\n",
        "            model_out_z = torch.sigmoid(model_out_z)\n",
        "            output += p_zi.item() * model_out_z\n",
        "            model_outputs.append(model_out_z)\n",
        "\n",
        "        return output, model_outputs\n",
        "\n",
        "\n",
        "class BasicModel(nn.Module):\n",
        "    def __init__(self, embed_dim=128, gru_out=128):\n",
        "\n",
        "        super(BasicModel, self).__init__()\n",
        "        self.embed_dim = embed_dim\n",
        "        self.gru_out = gru_out\n",
        "\n",
        "        self.gru = nn.Sequential(\n",
        "            nn.Embedding(2000, embed_dim),\n",
        "            nn.GRU(embed_dim, gru_out, bidirectional=True, batch_first=True),\n",
        "        )\n",
        "\n",
        "        self.classifier = nn.Linear((2*gru_out), 1)\n",
        "\n",
        "    def forward(self, x):\n",
        "        x = self.gru(x)[1].transpose(0, 1).contiguous().view((x.shape[0], -1))\n",
        "        x = self.classifier(x)\n",
        "        return x\n",
        "\n",
        "\n",
        "class AverageMeter(object):\n",
        "    \"\"\"Computes and stores the average and current value\"\"\"\n",
        "\n",
        "    def __init__(self):\n",
        "        self.reset()\n",
        "\n",
        "    def reset(self):\n",
        "        self.val = 0\n",
        "        self.avg = 0\n",
        "        self.sum = 0\n",
        "        self.count = 0\n",
        "\n",
        "    def update(self, val, n=1):\n",
        "        self.val = val\n",
        "        self.sum += val * n\n",
        "        self.count += n\n",
        "        self.avg = self.sum / self.count\n",
        "\n",
        "\n",
        "def train(X_train, y_train, z_train, model, optimizer, criterion, num_epochs=1, batch_size=256, lr=0.001):\n",
        "      \n",
        "    model.train()\n",
        "    train_size = X_train.shape[0] \n",
        "\n",
        "    for epoch in range(num_epochs):\n",
        "\n",
        "        train_loss_meter = AverageMeter()\n",
        "        i = 0\n",
        "\n",
        "        for batch in range(0, train_size, batch_size):\n",
        "\n",
        "            start_index = batch\n",
        "            end_index = min(batch + batch_size, train_size)\n",
        "\n",
        "            batch_X = X_train[start_index:end_index].cuda()\n",
        "            batch_z = z_train[start_index:end_index].cuda()\n",
        "\n",
        "            batch_y = y_train[start_index:end_index].cuda()\n",
        "\n",
        "            output = model(batch_X, batch_z)\n",
        "\n",
        "            loss = criterion(output, batch_y)\n",
        "\n",
        "            optimizer.zero_grad()\n",
        "            loss.backward()\n",
        "            optimizer.step()\n",
        "\n",
        "            train_loss_meter.update(loss.item(), (end_index-start_index))\n",
        "\n",
        "            if(i % 100 == 0):\n",
        "                print(\"Epoch: {}, Iter: {}, Training Loss: {}\".format(epoch, i, train_loss_meter.avg))\n",
        "\n",
        "            i += 1\n",
        "\n",
        "\n",
        "def predict(model, X_test, p_z, batch_size=256):\n",
        "\n",
        "    model.eval()\n",
        "\n",
        "    with torch.no_grad():\n",
        "\n",
        "        #all_z = torch.tensor([[0, 0], [0, 1], [1, 0], [1, 1]], dtype=torch.float).cuda()\n",
        "        all_z = torch.tensor([[0], [1]], dtype=torch.float).cuda()\n",
        "\n",
        "        test_size = X_test.shape[0]\n",
        "        test_preds = torch.zeros((test_size, ))\n",
        "\n",
        "        for batch in range(0, test_size, batch_size):\n",
        "\n",
        "            start_index = batch\n",
        "            end_index = min(batch + batch_size, test_size)\n",
        "\n",
        "            batch_X = X_test[start_index:end_index].cuda()\n",
        "\n",
        "            output, all_outputs = model.forward_all_z(batch_X, all_z, p_z)\n",
        "\n",
        "            test_preds[start_index:end_index] = output.squeeze(dim=1).cpu()\n",
        "\n",
        "    model.train()\n",
        "\n",
        "    return test_preds\n",
        "\n",
        "\n",
        "def train_std(X_train, y_train, model, optimizer, criterion, num_epochs=1, batch_size=256, lr=0.001):\n",
        "      \n",
        "    model.train()\n",
        "    train_size = X_train.shape[0] \n",
        "\n",
        "    for epoch in range(num_epochs):\n",
        "\n",
        "        train_loss_meter = AverageMeter()\n",
        "        i = 0\n",
        "\n",
        "        for batch in range(0, train_size, batch_size):\n",
        "\n",
        "            start_index = batch\n",
        "            end_index = min(batch + batch_size, train_size)\n",
        "\n",
        "            batch_X = X_train[start_index:end_index].cuda()\n",
        "\n",
        "            batch_y = y_train[start_index:end_index].cuda()\n",
        "\n",
        "            output = model(batch_X)\n",
        "\n",
        "            loss = criterion(output, batch_y)\n",
        "\n",
        "            optimizer.zero_grad()\n",
        "            loss.backward()\n",
        "            optimizer.step()\n",
        "\n",
        "            train_loss_meter.update(loss.item(), (end_index-start_index))\n",
        "\n",
        "            if(i % 100 == 0):\n",
        "                print(\"Epoch: {}, Iter: {}, Training Loss: {}\".format(epoch, i, train_loss_meter.avg))\n",
        "\n",
        "            i += 1\n",
        "\n",
        "\n",
        "def predict_std(model, X_test, batch_size=256):\n",
        "\n",
        "    model.eval()\n",
        "\n",
        "    with torch.no_grad():\n",
        "\n",
        "        test_size = X_test.shape[0]\n",
        "        test_preds = torch.zeros((test_size, ))\n",
        "\n",
        "        for batch in range(0, test_size, batch_size):\n",
        "\n",
        "            start_index = batch\n",
        "            end_index = min(batch + batch_size, test_size)\n",
        "\n",
        "            batch_X = X_test[start_index:end_index].cuda()\n",
        "\n",
        "            output = torch.sigmoid(model.forward(batch_X))\n",
        "\n",
        "            test_preds[start_index:end_index] = output.squeeze(dim=1).cpu()\n",
        "\n",
        "    model.train()\n",
        "\n",
        "    return test_preds\n",
        "\n",
        "\n",
        "def prepare_data(all_train_df, test_df, ind=1):\n",
        "\n",
        "    train_df = all_train_df[ind]\n",
        "    train_df = train_df.sample(frac=1)\n",
        "\n",
        "    train_df['text'] = train_df['text'].apply(lambda x: x.lower())\n",
        "    test_df['text'] = test_df['text'].apply(lambda x: x.lower())\n",
        "\n",
        "    train_df['text'] = train_df['text'].apply(lambda x: \" \".join(wordpunct_tokenize(x)))\n",
        "    test_df['text'] = test_df['text'].apply(lambda x: \" \".join(wordpunct_tokenize(x)))\n",
        "\n",
        "    tokenizer = Tokenizer(num_words=2000, lower=True, split=' ', filters='#%&()*+-/:;<=>@[\\\\]^_`{|}~\\t\\n')\n",
        "    tokenizer.fit_on_texts(train_df['text'].values)\n",
        "\n",
        "    X_train = tokenizer.texts_to_sequences(train_df['text'].values)\n",
        "    X_train = pad_sequences(X_train, maxlen=350)\n",
        "\n",
        "    X_test = tokenizer.texts_to_sequences(test_df['text'].values)\n",
        "    X_test = pad_sequences(X_test, maxlen=350)\n",
        "\n",
        "    return X_train, X_test, train_df, test_df\n",
        "\n",
        "\n",
        "def main():\n",
        "    fp = open(\"data/train_dfs.pkl\", \"rb\")\n",
        "    all_train_df = pickle.load(fp)\n",
        "    fp.close()\n",
        "\n",
        "    fp = open(\"data/test_df.pkl\", \"rb\")\n",
        "    test_df = pickle.load(fp)\n",
        "    fp.close()\n",
        "\n",
        "    confounder = 'user_pop'\n",
        "\n",
        "    for dataset_index in range(1, 10):\n",
        "\n",
        "        print(\"\\n-------------\\nDataset Bias {}\\n\\n\".format(dataset_index))\n",
        "\n",
        "        X_train, X_test, train_df, test_df = prepare_data(all_train_df, test_df, dataset_index)\n",
        "\n",
        "        X_train_tensor = torch.from_numpy(X_train)\n",
        "        y_train_tensor = torch.from_numpy(train_df['label'].to_numpy()).unsqueeze(dim=1).float()\n",
        "        z_train_tensor = torch.from_numpy(train_df[confounder].to_numpy()).unsqueeze(dim=1)\n",
        "\n",
        "        X_test_tensor = torch.from_numpy(X_test)\n",
        "        y_test_tensor = torch.from_numpy(test_df['label'].to_numpy()).unsqueeze(dim=1).float()\n",
        "        z_test_tensor = torch.from_numpy(test_df[confounder].to_numpy()).unsqueeze(dim=1)\n",
        "\n",
        "        num_epochs = 1\n",
        "        batch_size = 256\n",
        "        lr = 0.001\n",
        "\n",
        "        model = Model().cuda()\n",
        "        optimizer = torch.optim.Adam(model.parameters(), lr=lr)\n",
        "        criterion = nn.BCEWithLogitsLoss()\n",
        "\n",
        "        train(X_train_tensor, y_train_tensor, z_train_tensor, model, optimizer, criterion, num_epochs=1, batch_size=batch_size, lr=lr)\n",
        "\n",
        "        p_z = Counter(train_df[confounder])\n",
        "        p_z = np.array([p_z[0], p_z[1]], dtype=float)\n",
        "        p_z /= p_z.sum()\n",
        "\n",
        "        pred_test = predict(model, X_test_tensor, p_z, batch_size=batch_size)\n",
        "        y_pred = np.round(pred_test.numpy())\n",
        "\n",
        "        print(\"\\nDataset Bias {}\\n\".format(dataset_index))      \n",
        "        print(\"Accuracy: {}\".format(accuracy_score(test_df['label'], y_pred)))\n",
        "\n",
        "        model_std = BasicModel().cuda()\n",
        "        optimizer_std = torch.optim.Adam(model_std.parameters(), lr=lr)\n",
        "\n",
        "        train_std(X_train_tensor, y_train_tensor, model_std, optimizer_std, criterion, num_epochs=1, batch_size=batch_size, lr=lr)\n",
        "\n",
        "        pred_test_std = predict_std(model_std, X_test_tensor, batch_size=batch_size)\n",
        "        y_pred_std = np.round(pred_test_std.numpy())\n",
        "\n",
        "        print(\"Accuracy (std): {}\".format(accuracy_score(test_df['label'], y_pred_std)))\n",
        "\n",
        "        print(\"\\n\\n-------------\\n\\n\", dataset_index)\n",
        "\n"
      ]
    },
    {
      "cell_type": "code",
      "execution_count": 3,
      "metadata": {
        "id": "QydFWA-vTHcv"
      },
      "outputs": [],
      "source": [
        "\n",
        "\n",
        "# wrap batch of x, y, c -> loss\n"
      ]
    },
    {
      "cell_type": "code",
      "execution_count": 4,
      "metadata": {
        "id": "eoREl2ZtSSfJ"
      },
      "outputs": [],
      "source": [
        "# bi-gru model that gives feat(x)\n",
        "\n",
        "class TextFeaturizer(nn.Module):\n",
        "    def __init__(self, embed_dim=128, gru_out=32):\n",
        "\n",
        "        super(TextFeaturizer, self).__init__()\n",
        "        self.embed_dim = embed_dim\n",
        "        self.gru_out = gru_out\n",
        "        self.vocab_size = 2000\n",
        "\n",
        "        self.gru = nn.Sequential(\n",
        "            nn.Embedding(self.vocab_size, embed_dim),\n",
        "            nn.GRU(embed_dim, gru_out, bidirectional=True, batch_first=True),\n",
        "        )\n",
        "\n",
        "        self.output_dim = 2 * gru_out\n",
        "\n",
        "    def forward(self, x):\n",
        "        batch_size = x.size(0)\n",
        "        x = self.gru(x)[1].transpose(0, 1).contiguous().view((x.shape[0], -1))\n",
        "        assert(x.shape == (batch_size, self.output_dim))\n",
        "        return x"
      ]
    },
    {
      "cell_type": "code",
      "execution_count": 5,
      "metadata": {
        "id": "mxVBCIcnSScz"
      },
      "outputs": [],
      "source": [
        "# model that gives mu, sigma for q_phi(z|x, y, c) (inputs: x_feat, y, c)\n",
        "\n",
        "class QPhi(nn.Module):\n",
        "    def __init__(self, text_feat_dim=64, c_dim=2, z_dim=16, hidden_dim=32):\n",
        "\n",
        "        super(TextFeaturizer, self).__init__()\n",
        "        self.text_feat_dim = text_feat_dim\n",
        "        self.c_dim = c_dim\n",
        "        self.z_dim = z_dim\n",
        "        self.y_dim = 1\n",
        "\n",
        "        self.hidden_dim = hidden_dim\n",
        "\n",
        "        self._model = nn.Sequential(\n",
        "            nn.Linear(self.text_feat_dim + self.c_dim + self.y_dim, self.hidden_dim),\n",
        "            nn.Linear(self.hidden_dim, 2 * self.z_dim)\n",
        "        )\n",
        "\n",
        "    def forward(self, x_feat, y, c):\n",
        "        xcy = torch.cat([x_feat, c, y], dim=1)\n",
        "        z_hat = self._model(xcy)\n",
        "        z_hat_mu = z_hat[:z_hat.size(1) // 2]\n",
        "        z_hat_logvar = z_hat[z_hat.size(1) // 2:]\n",
        "\n",
        "        assert z_hat_mu.size(1) == z_hat_logvar.size(1) == self.z_dim\n",
        "        return z_hat_mu, z_hat_logvar\n",
        "    \n",
        "    @staticmethod\n",
        "    def sample(mu, logvar):\n",
        "        # reparameterization\n",
        "        std = torch.exp(logvar / 2.0)\n",
        "        eps = torch.randn(std.shape, device=std.device)\n",
        "        return mu + std * eps"
      ]
    },
    {
      "cell_type": "code",
      "execution_count": 6,
      "metadata": {
        "id": "QF2SqsUOSSav"
      },
      "outputs": [],
      "source": [
        "# model that gives p_theta(y | x, z) (inputs: feat(x), z)\n",
        "\n",
        "class PThetaY_XZ(nn.Module):\n",
        "    def __init__(self, text_feat_dim=64, z_dim=16):\n",
        "        super(PThetaY_XZ, self).__init__()\n",
        "\n",
        "        self.text_feat_dim = text_feat_dim\n",
        "        self.z_dim = z_dim\n",
        "\n",
        "        self.classifier = nn.Linear(text_feat_dim + z_dim, 1)\n",
        "\n",
        "    def forward(self, x_feat, z):\n",
        "        x = torch.cat((x_feat, z), dim=1)\n",
        "        x = self.classifier(x)\n",
        "        return x\n"
      ]
    },
    {
      "cell_type": "code",
      "execution_count": 7,
      "metadata": {
        "id": "0B-TewxWQo2R"
      },
      "outputs": [],
      "source": [
        "# model that gives p_theta(feat(x^) | z) --> 2 linear layers on top of z\n",
        "\n",
        "class PThetaXfeat_Z(nn.Module):\n",
        "    def __init__(self, z_dim=16, text_feat_dim=64, hidden_dim=32):\n",
        "        super().__init__()\n",
        "\n",
        "        self.z_dim = z_dim\n",
        "        self.text_feat_dim = text_feat_dim\n",
        "        self.hidden_dim = hidden_dim\n",
        "\n",
        "        self.model = nn.Sequential(\n",
        "            nn.Linear(z_dim, hidden_dim),\n",
        "            nn.Linear(hidden_dim, text_feat_dim),\n",
        "        )\n",
        "\n",
        "    def forward(self, x_feat, z):\n",
        "        return self.model(z)\n"
      ]
    },
    {
      "cell_type": "code",
      "execution_count": 8,
      "metadata": {
        "id": "qw47id5JQoz-"
      },
      "outputs": [],
      "source": [
        "# model that gives p_theta(c | z)\n",
        "\n",
        "class PThetaC_Z(nn.Module):\n",
        "    def __init__(self, z_dim=16, c_dim=2):\n",
        "        super().__init__()\n",
        "\n",
        "        self.z_dim = z_dim\n",
        "        self.c_dim = c_dim\n",
        "\n",
        "        self.projection = nn.Linear(z_dim, c_dim)\n",
        "\n",
        "    def forward(self, z):\n",
        "        return self.projection(z)\n"
      ]
    },
    {
      "cell_type": "code",
      "execution_count": 8,
      "metadata": {
        "id": "cp78YHKWgWxJ"
      },
      "outputs": [],
      "source": [
        ""
      ]
    },
    {
      "cell_type": "code",
      "source": [
        "from models.SCMModel import *"
      ],
      "metadata": {
        "id": "q9yQHtVBTx-u"
      },
      "execution_count": 9,
      "outputs": []
    },
    {
      "cell_type": "code",
      "source": [
        "fp = open(\"train_dfs.pkl\", \"rb\")\n",
        "all_train_df = pickle.load(fp)\n",
        "fp.close()\n",
        "\n",
        "fp = open(\"test_df.pkl\", \"rb\")\n",
        "test_df = pickle.load(fp)\n",
        "fp.close()"
      ],
      "metadata": {
        "id": "jMmXrwo7YCjW"
      },
      "execution_count": 10,
      "outputs": []
    },
    {
      "cell_type": "code",
      "source": [
        "confounder = ['user_pop', 'take_out']\n",
        "\n",
        "dataset_index = 1\n",
        "# for dataset_index in range(1, 10):\n",
        "if True:\n",
        "    print(\"\\n-------------\\nDataset Bias {}\\n\\n\".format(dataset_index))\n",
        "\n",
        "    X_train, X_test, train_df, test_df = prepare_data(all_train_df, test_df, dataset_index)\n",
        "\n",
        "    X_train_tensor = torch.from_numpy(X_train)\n",
        "    y_train_tensor = torch.from_numpy(train_df['label'].to_numpy()).unsqueeze(dim=1).float()\n",
        "    c_train_tensor = torch.from_numpy(train_df[confounder].to_numpy()) #.unsqueeze(dim=1)\n",
        "\n",
        "    X_test_tensor = torch.from_numpy(X_test)\n",
        "    y_test_tensor = torch.from_numpy(test_df['label'].to_numpy()).unsqueeze(dim=1).float()\n",
        "    c_test_tensor = torch.from_numpy(test_df[confounder].to_numpy()) #.unsqueeze(dim=1)\n",
        "\n",
        "    num_epochs = 1\n",
        "    batch_size = 256\n",
        "    lr = 0.001\n"
      ],
      "metadata": {
        "colab": {
          "base_uri": "https://localhost:8080/"
        },
        "id": "Ll5Y2LGLYChO",
        "outputId": "5f4f3190-accd-438f-db7c-d8319d6b6220"
      },
      "execution_count": 11,
      "outputs": [
        {
          "output_type": "stream",
          "name": "stdout",
          "text": [
            "\n",
            "-------------\n",
            "Dataset Bias 1\n",
            "\n",
            "\n"
          ]
        }
      ]
    },
    {
      "cell_type": "code",
      "execution_count": 12,
      "metadata": {
        "id": "O5JWy7sIgWvE"
      },
      "outputs": [],
      "source": [
        "from utils import *\n",
        "import torch\n",
        "from torch import nn\n",
        "import torch.nn.functional as F\n",
        "\n",
        "def train_scm(X_train, y_train, c_train, model, optimizer, num_epochs=1, batch_size=256, lr=0.001):\n",
        "\n",
        "    model.train()\n",
        "    train_size = X_train.shape[0]\n",
        "\n",
        "    train_loss_meter = AverageMeter()\n",
        "    recon_loss_meter = AverageMeter()\n",
        "    y_xz_loss_meter = AverageMeter()\n",
        "    c_z_loss_meter = AverageMeter()\n",
        "    KL_loss_meter = AverageMeter()\n",
        "\n",
        "    for epoch in range(num_epochs):\n",
        "\n",
        "        i = 0\n",
        "\n",
        "        for batch in range(0, train_size, batch_size):\n",
        "\n",
        "            start_index = batch\n",
        "            end_index = min(batch + batch_size, train_size)\n",
        "\n",
        "            batch_X = X_train[start_index:end_index].cuda()\n",
        "            batch_c = c_train[start_index:end_index].cuda()\n",
        "\n",
        "            batch_y = y_train[start_index:end_index].cuda()\n",
        "\n",
        "            loss, L_recon, L_y_xz, L_c_z, L_KL = model(batch_X, batch_y, batch_c, return_all_losses=True)\n",
        "\n",
        "            # loss = criterion(output, batch_y)\n",
        "\n",
        "            optimizer.zero_grad()\n",
        "            loss.backward()\n",
        "            optimizer.step()\n",
        "\n",
        "            train_loss_meter.update(loss.item(), (end_index-start_index))\n",
        "            recon_loss_meter.update(L_recon.item(), (end_index-start_index))\n",
        "            y_xz_loss_meter.update(L_y_xz.item(), (end_index-start_index))\n",
        "            c_z_loss_meter.update(L_c_z.item(), (end_index-start_index))\n",
        "            KL_loss_meter.update(L_KL.item(), (end_index-start_index))\n",
        "\n",
        "            if(i % 100 == 0):\n",
        "\n",
        "                print(\"Epoch: {}, Iter: {}, Training Loss: {}\".format(epoch, i, train_loss_meter.avg), end='')\n",
        "                # print(f\"loss, L_recon, L_y_xz, L_c_z, L_KL: {loss.item(), L_recon.item(), L_y_xz.item(), L_c_z.item(), L_KL.item()}\")\n",
        "                print(\", recon loss: {}\".format(recon_loss_meter.avg), end='')\n",
        "                print(\", y_xz loss: {}\".format(y_xz_loss_meter.avg), end='')\n",
        "                print(\", c_z loss: {}\".format(c_z_loss_meter.avg), end='')\n",
        "                print(\", KL loss: {}\".format(KL_loss_meter.avg))\n",
        "\n",
        "            i += 1"
      ]
    },
    {
      "cell_type": "code",
      "execution_count": 13,
      "metadata": {
        "id": "GzR3CJAMgWs_",
        "colab": {
          "base_uri": "https://localhost:8080/"
        },
        "outputId": "4de60d5f-1920-4def-ed2c-785bc3d41faf"
      },
      "outputs": [
        {
          "output_type": "stream",
          "name": "stdout",
          "text": [
            "Epoch: 0, Iter: 0, Training Loss: 33.777587890625, recon loss: 30.89276695251465, y_xz loss: 0.7086877822875977, c_z loss: 1.4163262844085693, KL loss: 0.7598075866699219\n",
            "Epoch: 0, Iter: 100, Training Loss: 7.42288861652412, recon loss: 5.31987461713281, y_xz loss: 0.5736661756982898, c_z loss: 1.2532500418105927, KL loss: 0.27609781153721386\n",
            "Epoch: 0, Iter: 200, Training Loss: 4.962673583433996, recon loss: 3.056297669511529, y_xz loss: 0.5089274585543581, c_z loss: 1.2133737007776897, KL loss: 0.18407476274528314\n",
            "Epoch: 0, Iter: 300, Training Loss: 3.9635143668152564, recon loss: 2.172328913380141, y_xz loss: 0.4679767080517702, c_z loss: 1.1779360783060524, KL loss: 0.14527267288181472\n",
            "Epoch: 0, Iter: 400, Training Loss: 3.4017325137321492, recon loss: 1.6849817631770845, y_xz loss: 0.4464745255479789, c_z loss: 1.1466370110499888, KL loss: 0.12363921418005688\n",
            "Epoch: 0, Iter: 500, Training Loss: 3.0369275242030738, recon loss: 1.3748498280307728, y_xz loss: 0.43350505531429057, c_z loss: 1.1194125284215886, KL loss: 0.10916011317999301\n",
            "Epoch: 0, Iter: 600, Training Loss: 2.777358732286983, recon loss: 1.1588127314238599, y_xz loss: 0.42524621515424793, c_z loss: 1.0952570432434463, KL loss: 0.09804274273196394\n",
            "Epoch: 0, Iter: 700, Training Loss: 2.5805974083178054, recon loss: 1.0003278208537805, y_xz loss: 0.4189550355395645, c_z loss: 1.0724879463286952, KL loss: 0.0888266063185034\n",
            "Epoch: 0, Iter: 800, Training Loss: 2.4266932000232844, recon loss: 0.8792343027982744, y_xz loss: 0.41451665569333995, c_z loss: 1.0518852019131406, KL loss: 0.08105704082773717\n",
            "Epoch: 0, Iter: 900, Training Loss: 2.301589986724938, recon loss: 0.7839227223243734, y_xz loss: 0.41095768846364716, c_z loss: 1.032291762505996, KL loss: 0.07441781435810964\n",
            "Epoch: 0, Iter: 1000, Training Loss: 2.197220742642939, recon loss: 0.7070801391858946, y_xz loss: 0.4077762647584959, c_z loss: 1.013693957955211, KL loss: 0.06867038057772787\n",
            "Epoch: 0, Iter: 1100, Training Loss: 2.108976325373775, recon loss: 0.6439104044368384, y_xz loss: 0.4053710904259989, c_z loss: 0.9960177204589428, KL loss: 0.06367710970941048\n",
            "Epoch: 0, Iter: 1200, Training Loss: 2.0329551916138318, recon loss: 0.5911579598226026, y_xz loss: 0.4026344624238645, c_z loss: 0.9798716675927498, KL loss: 0.05929110128413902\n",
            "Epoch: 0, Iter: 1300, Training Loss: 1.9661533570491196, recon loss: 0.5464749022681898, y_xz loss: 0.40008283534203926, c_z loss: 0.9641306201006064, KL loss: 0.0554649989603146\n",
            "Epoch: 0, Iter: 1400, Training Loss: 1.9072685491009154, recon loss: 0.5083282320267607, y_xz loss: 0.39794884312586815, c_z loss: 0.9488844360988706, KL loss: 0.052107037310631446\n",
            "Epoch: 0, Iter: 1500, Training Loss: 1.8547469311599172, recon loss: 0.475509161962262, y_xz loss: 0.3954709106528862, c_z loss: 0.9345942857581564, KL loss: 0.04917257253997658\n",
            "Epoch: 0, Iter: 1600, Training Loss: 1.8066644856588756, recon loss: 0.4471011825817998, y_xz loss: 0.39215808630287463, c_z loss: 0.9208250110928228, KL loss: 0.04658020593296925\n",
            "Epoch: 1, Iter: 0, Training Loss: 1.7650026187648382, recon loss: 0.4233190780157872, y_xz loss: 0.38881250493530717, c_z loss: 0.9085010305930967, KL loss: 0.04437000558934098\n",
            "Epoch: 1, Iter: 100, Training Loss: 1.7249851616741825, recon loss: 0.4016190447405572, y_xz loss: 0.3849600183267996, c_z loss: 0.8961215546907397, KL loss: 0.04228454418340453\n",
            "Epoch: 1, Iter: 200, Training Loss: 1.6886501722798206, recon loss: 0.38242767340805267, y_xz loss: 0.38114725867388727, c_z loss: 0.8846912132334451, KL loss: 0.040384026968977166\n",
            "Epoch: 1, Iter: 300, Training Loss: 1.6543635544593118, recon loss: 0.36530429925989066, y_xz loss: 0.37670233030821354, c_z loss: 0.8737472812734555, KL loss: 0.03860964390715174\n",
            "Epoch: 1, Iter: 400, Training Loss: 1.622373350555011, recon loss: 0.35013506472323164, y_xz loss: 0.3719439079196398, c_z loss: 0.863319954461164, KL loss: 0.03697442380341206\n",
            "Epoch: 1, Iter: 500, Training Loss: 1.5924521735196813, recon loss: 0.336395178770745, y_xz loss: 0.3670674522430365, c_z loss: 0.8535302337890455, KL loss: 0.0354593091577484\n",
            "Epoch: 1, Iter: 600, Training Loss: 1.5645456181738473, recon loss: 0.3239379209468572, y_xz loss: 0.36228849294704685, c_z loss: 0.8442666118090719, KL loss: 0.03405259295329033\n",
            "Epoch: 1, Iter: 700, Training Loss: 1.5381471559456423, recon loss: 0.312630006161105, y_xz loss: 0.35732831189947273, c_z loss: 0.8354410567580989, KL loss: 0.03274778148813408\n",
            "Epoch: 1, Iter: 800, Training Loss: 1.5136381155689687, recon loss: 0.3022904660348336, y_xz loss: 0.3524902506514493, c_z loss: 0.8273140567792002, KL loss: 0.031543342800063\n",
            "Epoch: 1, Iter: 900, Training Loss: 1.4904948509084193, recon loss: 0.292726803942421, y_xz loss: 0.34780693144109354, c_z loss: 0.81954190418289, KL loss: 0.030419211874365675\n",
            "Epoch: 1, Iter: 1000, Training Loss: 1.4684518690583002, recon loss: 0.28391972644052693, y_xz loss: 0.3431611317734112, c_z loss: 0.8119985068813685, KL loss: 0.029372504406364283\n",
            "Epoch: 1, Iter: 1100, Training Loss: 1.447661497745862, recon loss: 0.2758106778581041, y_xz loss: 0.3386825363779656, c_z loss: 0.8047771961707989, KL loss: 0.028391087854421113\n",
            "Epoch: 1, Iter: 1200, Training Loss: 1.428142133860564, recon loss: 0.2681189361944987, y_xz loss: 0.3342409498702567, c_z loss: 0.7983086731808372, KL loss: 0.02747357542570288\n",
            "Epoch: 1, Iter: 1300, Training Loss: 1.409351671230189, recon loss: 0.2609442607516217, y_xz loss: 0.3299716199318494, c_z loss: 0.7918153140943643, KL loss: 0.026620477186231672\n",
            "Epoch: 1, Iter: 1400, Training Loss: 1.3914273397935917, recon loss: 0.2542595431981832, y_xz loss: 0.32592192818495885, c_z loss: 0.7854201567976683, KL loss: 0.02582571229416671\n",
            "Epoch: 1, Iter: 1500, Training Loss: 1.3744751303462506, recon loss: 0.24801982155287822, y_xz loss: 0.32193604208974214, c_z loss: 0.7794337297488294, KL loss: 0.025085537689087\n",
            "Epoch: 1, Iter: 1600, Training Loss: 1.3579606139911522, recon loss: 0.2420907042940752, y_xz loss: 0.31796099780851056, c_z loss: 0.7735164585998869, KL loss: 0.024392454151789908\n",
            "Epoch: 2, Iter: 0, Training Loss: 1.3430173996558488, recon loss: 0.23674671974171332, y_xz loss: 0.3143313238586137, c_z loss: 0.7681587328707998, KL loss: 0.023780624159931513\n",
            "Epoch: 2, Iter: 100, Training Loss: 1.32808662964885, recon loss: 0.2314444986184803, y_xz loss: 0.31072998541229413, c_z loss: 0.762731901071925, KL loss: 0.02318024528271925\n",
            "Epoch: 2, Iter: 200, Training Loss: 1.3142239195416272, recon loss: 0.22646726796307062, y_xz loss: 0.30736628335023136, c_z loss: 0.7577776363709192, KL loss: 0.02261273259129455\n",
            "Epoch: 2, Iter: 300, Training Loss: 1.3006202468380488, recon loss: 0.22169926999231668, y_xz loss: 0.3039558943290867, c_z loss: 0.7528960100837712, KL loss: 0.022069073188502986\n",
            "Epoch: 2, Iter: 400, Training Loss: 1.287550352752349, recon loss: 0.21724055149159927, y_xz loss: 0.30057081380216916, c_z loss: 0.7481895132023801, KL loss: 0.021549475024534456\n",
            "Epoch: 2, Iter: 500, Training Loss: 1.275106227423949, recon loss: 0.21296303112131845, y_xz loss: 0.2973370079678498, c_z loss: 0.7437531050081885, KL loss: 0.021053084334833452\n",
            "Epoch: 2, Iter: 600, Training Loss: 1.2633163642779175, recon loss: 0.20891095151269554, y_xz loss: 0.29434534016893815, c_z loss: 0.739476801392438, KL loss: 0.02058327223523562\n",
            "Epoch: 2, Iter: 700, Training Loss: 1.251857461278215, recon loss: 0.2050171641798406, y_xz loss: 0.2912992651814259, c_z loss: 0.7354030978466117, KL loss: 0.0201379353413177\n",
            "Epoch: 2, Iter: 800, Training Loss: 1.2410448536252605, recon loss: 0.20131415499780575, y_xz loss: 0.2883880592990033, c_z loss: 0.7316271635976505, KL loss: 0.01971547698171342\n",
            "Epoch: 2, Iter: 900, Training Loss: 1.2306666554028018, recon loss: 0.19775208983205417, y_xz loss: 0.28564391501182035, c_z loss: 0.7279505198706846, KL loss: 0.019320132003197092\n",
            "Epoch: 2, Iter: 1000, Training Loss: 1.2205010722719603, recon loss: 0.19433970386537008, y_xz loss: 0.28289285851995366, c_z loss: 0.7243192031537082, KL loss: 0.01894930803602188\n",
            "Epoch: 2, Iter: 1100, Training Loss: 1.2107833176977725, recon loss: 0.19109323936866482, y_xz loss: 0.28029851805365197, c_z loss: 0.7207843747336722, KL loss: 0.018607186751713724\n",
            "Epoch: 2, Iter: 1200, Training Loss: 1.201570555763022, recon loss: 0.18791452636318834, y_xz loss: 0.2777320160113724, c_z loss: 0.7176336388617607, KL loss: 0.018290375846861308\n",
            "Epoch: 2, Iter: 1300, Training Loss: 1.1925285370749064, recon loss: 0.1848801101615328, y_xz loss: 0.2752601515534037, c_z loss: 0.71438999863055, KL loss: 0.017998277733181255\n",
            "Epoch: 2, Iter: 1400, Training Loss: 1.1837241675907735, recon loss: 0.1819621351536645, y_xz loss: 0.2729075671402604, c_z loss: 0.7111313345131223, KL loss: 0.01772313166918902\n",
            "Epoch: 2, Iter: 1500, Training Loss: 1.1752930591502129, recon loss: 0.1791756187067372, y_xz loss: 0.27057263980913976, c_z loss: 0.7080811898341014, KL loss: 0.017463611672310787\n",
            "Epoch: 2, Iter: 1600, Training Loss: 1.1669928190236087, recon loss: 0.17648759956252663, y_xz loss: 0.26830372491166693, c_z loss: 0.7049752951560729, KL loss: 0.01722620033599687\n",
            "Epoch: 3, Iter: 0, Training Loss: 1.1593425395258379, recon loss: 0.17397715981479836, y_xz loss: 0.2661961128695148, c_z loss: 0.7021567544917046, KL loss: 0.017012513374333314\n",
            "Epoch: 3, Iter: 100, Training Loss: 1.15156266903411, recon loss: 0.1714296156457911, y_xz loss: 0.2640757796826056, c_z loss: 0.6992623632390857, KL loss: 0.016794911411622683\n",
            "Epoch: 3, Iter: 200, Training Loss: 1.1443866138919414, recon loss: 0.16901802907216112, y_xz loss: 0.26210760127690264, c_z loss: 0.6966677335424225, KL loss: 0.016593250951619547\n",
            "Epoch: 3, Iter: 300, Training Loss: 1.1371948708499053, recon loss: 0.16666447111497287, y_xz loss: 0.2601141646766851, c_z loss: 0.6940121671532694, KL loss: 0.016404068746283737\n",
            "Epoch: 3, Iter: 400, Training Loss: 1.130189055006301, recon loss: 0.1644201163553518, y_xz loss: 0.258099514105267, c_z loss: 0.691450666780058, KL loss: 0.016218758570475597\n",
            "Epoch: 3, Iter: 500, Training Loss: 1.1234503567099126, recon loss: 0.16221411459019694, y_xz loss: 0.2561748180872693, c_z loss: 0.6890157882768096, KL loss: 0.01604563652767171\n",
            "Epoch: 3, Iter: 600, Training Loss: 1.1170480317281326, recon loss: 0.1601068139203054, y_xz loss: 0.2543884446581904, c_z loss: 0.6866682651371909, KL loss: 0.015884508714098376\n",
            "Epoch: 3, Iter: 700, Training Loss: 1.1106999838919118, recon loss: 0.1580379723401848, y_xz loss: 0.25252703019297995, c_z loss: 0.6844061730385295, KL loss: 0.01572880904619052\n",
            "Epoch: 3, Iter: 800, Training Loss: 1.1046561782494941, recon loss: 0.15603763186082273, y_xz loss: 0.25071836011789267, c_z loss: 0.6823135854979863, KL loss: 0.015586601544402008\n",
            "Epoch: 3, Iter: 900, Training Loss: 1.0988157600868753, recon loss: 0.15410582423223557, y_xz loss: 0.24900243781326187, c_z loss: 0.6802472640862238, KL loss: 0.015460234647006094\n",
            "Epoch: 3, Iter: 1000, Training Loss: 1.0930566992124748, recon loss: 0.15222814017182265, y_xz loss: 0.24728129363920937, c_z loss: 0.6782034123269323, KL loss: 0.015343853623297751\n",
            "Epoch: 3, Iter: 1100, Training Loss: 1.0874782043030005, recon loss: 0.1504201518294358, y_xz loss: 0.2456591819440598, c_z loss: 0.6761598593356785, KL loss: 0.015239011568205226\n",
            "Epoch: 3, Iter: 1200, Training Loss: 1.0822027695764094, recon loss: 0.14863861573654313, y_xz loss: 0.24405832839107344, c_z loss: 0.674341573508488, KL loss: 0.015164252315690695\n",
            "Epoch: 3, Iter: 1300, Training Loss: 1.0769957911149937, recon loss: 0.14692651509990565, y_xz loss: 0.24252836037450276, c_z loss: 0.6724248718703529, KL loss: 0.015116044142512206\n",
            "Epoch: 3, Iter: 1400, Training Loss: 1.071801252170492, recon loss: 0.14523601588004503, y_xz loss: 0.24104286319151672, c_z loss: 0.6704472233087722, KL loss: 0.015075150232917008\n",
            "Epoch: 3, Iter: 1500, Training Loss: 1.0668069551445012, recon loss: 0.14360783052370818, y_xz loss: 0.23954148104953374, c_z loss: 0.6686161478797941, KL loss: 0.01504149620595579\n",
            "Epoch: 3, Iter: 1600, Training Loss: 1.0618207595179074, recon loss: 0.1420177010752297, y_xz loss: 0.23807312112333978, c_z loss: 0.6667170686373765, KL loss: 0.015012869110506097\n"
          ]
        }
      ],
      "source": [
        "model = StructuralCausalModel(c_dim=len(confounder)).cuda()\n",
        "optimizer = torch.optim.Adam(model.parameters(), lr=lr)\n",
        "\n",
        "train_scm(X_train_tensor, y_train_tensor, c_train_tensor.float(), model, optimizer, num_epochs=4, batch_size=batch_size, lr=lr)"
      ]
    },
    {
      "cell_type": "code",
      "source": [
        ""
      ],
      "metadata": {
        "id": "sTMnhTAseDxi"
      },
      "execution_count": 13,
      "outputs": []
    },
    {
      "cell_type": "code",
      "source": [
        ""
      ],
      "metadata": {
        "id": "EvX-q-RzeDvN"
      },
      "execution_count": 13,
      "outputs": []
    },
    {
      "cell_type": "code",
      "source": [
        "## TODO: Move into SCM class\n",
        "def generate_z(scm, x, y, c):\n",
        "    x_feat = scm.text_featurizer(x)\n",
        "    z_hat_mu, z_hat_logvar = scm.q_phi(x_feat, y, c)\n",
        "    z_hat = scm.q_phi.sample(z_hat_mu, z_hat_logvar)\n",
        "    return z_hat\n"
      ],
      "metadata": {
        "id": "VA4RWDtovNte"
      },
      "execution_count": 14,
      "outputs": []
    },
    {
      "cell_type": "code",
      "source": [
        ""
      ],
      "metadata": {
        "id": "3PxJ0nu_vNrr"
      },
      "execution_count": 14,
      "outputs": []
    },
    {
      "cell_type": "code",
      "source": [
        "def generate_z_dataset(X_train, y_train, c_train, model, batch_size=1024):\n",
        "\n",
        "    model.eval()\n",
        "    train_size = X_train.shape[0]\n",
        "    z_values = []\n",
        "\n",
        "    with torch.no_grad():\n",
        "      for batch in range(0, train_size, batch_size):\n",
        "          start_index = batch\n",
        "          end_index = min(batch + batch_size, train_size)\n",
        "\n",
        "          batch_X = X_train[start_index:end_index].cuda()\n",
        "          batch_c = c_train[start_index:end_index].cuda()\n",
        "\n",
        "          batch_y = y_train[start_index:end_index].cuda()\n",
        "\n",
        "          batch_z = generate_z(model, batch_X, batch_y, batch_c).detach().cpu().numpy()\n",
        "          z_values.append(batch_z)\n",
        "\n",
        "    z_values = np.vstack(z_values)\n",
        "    return z_values"
      ],
      "metadata": {
        "id": "w3J6-ajZvzzx"
      },
      "execution_count": 15,
      "outputs": []
    },
    {
      "cell_type": "code",
      "source": [
        "z_dataset_train = generate_z_dataset(X_train_tensor, y_train_tensor, c_train_tensor.float(), model)"
      ],
      "metadata": {
        "id": "usEWDp-qvzxs"
      },
      "execution_count": 16,
      "outputs": []
    },
    {
      "cell_type": "code",
      "source": [
        "z_dataset_test = generate_z_dataset(X_test_tensor, y_test_tensor, c_test_tensor.float(), model)"
      ],
      "metadata": {
        "id": "GYNMIquqzYE-"
      },
      "execution_count": 17,
      "outputs": []
    },
    {
      "cell_type": "code",
      "source": [
        "z_dataset_train.shape, z_dataset_test.shape"
      ],
      "metadata": {
        "colab": {
          "base_uri": "https://localhost:8080/"
        },
        "id": "whcJq42SzYCY",
        "outputId": "8305c3ba-0a4a-4592-9a92-9850f347e8d0"
      },
      "execution_count": 18,
      "outputs": [
        {
          "output_type": "execute_result",
          "data": {
            "text/plain": [
              "((434136, 16), (100000, 16))"
            ]
          },
          "metadata": {},
          "execution_count": 18
        }
      ]
    },
    {
      "cell_type": "code",
      "source": [
        "z_dataset_train = torch.tensor(z_dataset_train)\n",
        "z_dataset_test = torch.tensor(z_dataset_test)"
      ],
      "metadata": {
        "id": "s0jO-7Ba3Z_2"
      },
      "execution_count": 19,
      "outputs": []
    },
    {
      "cell_type": "code",
      "source": [
        "from models.GAN import *\n",
        "\n",
        "device = 'cuda' if torch.cuda.is_available() else 'cpu'\n",
        "\n",
        "\n",
        "gan_config = {}\n",
        "gan_config['device'] = device\n",
        "gan_config['g_input_dim'] = 4\n",
        "gan_config['g_hidden_dim'] = 8\n",
        "gan_config['g_output_dim'] = 16\n",
        "gan_config['d_hidden_dim'] = 4\n",
        "gan_config['d_output_dim'] = 1\n",
        "gan_config['g_lr'] = 0.001\n",
        "gan_config['d_lr'] = 0.001\n",
        "gan_config['epochs'] = 50\n",
        "gan_config['gamma'] = 0.01\n",
        "\n",
        "gan_config['batch_size'] = 64\n",
        "\n",
        "\n",
        "gan = GANmodel(gan_config)"
      ],
      "metadata": {
        "id": "aPdPlEFYzM0I"
      },
      "execution_count": 20,
      "outputs": []
    },
    {
      "cell_type": "code",
      "source": [
        "gan.train(z_dataset_train, z_dataset_test)"
      ],
      "metadata": {
        "colab": {
          "base_uri": "https://localhost:8080/"
        },
        "id": "o2dgwFw5zMxh",
        "outputId": "8d0f8bc3-370e-4b3d-a927-dddfa3909833"
      },
      "execution_count": 21,
      "outputs": [
        {
          "metadata": {
            "tags": null
          },
          "name": "stderr",
          "output_type": "stream",
          "text": [
            "/usr/local/lib/python3.7/dist-packages/torch/optim/lr_scheduler.py:156: UserWarning: The epoch parameter in `scheduler.step()` was not necessary and is being deprecated where possible. Please use `scheduler.step()` to step the scheduler. During the deprecation, if epoch is different from None, the closed form is used instead of the new chainable form, where available. Please open an issue if you are unable to replicate your use case: https://github.com/pytorch/pytorch/issues/new/choose.\n",
            "  warnings.warn(EPOCH_DEPRECATION_WARNING, UserWarning)\n"
          ]
        },
        {
          "output_type": "stream",
          "name": "stdout",
          "text": [
            "Epoch 0: Train dloss: [0.02147960855452767] gloss: [0.011387875150713902], Valid dloss: [0.0213722388446331] gloss: [0.011798070147633552]\n",
            "Epoch 1: Train dloss: [0.02147960855452767, 0.021540217524991318] gloss: [0.011387875150713902, 0.011131908402434783], Valid dloss: [0.0213722388446331, 0.021729616552591324] gloss: [0.011798070147633552, 0.010810973035693169]\n",
            "Epoch 2: Train dloss: [0.02147960855452767, 0.021540217524991318, 0.021695112950231757] gloss: [0.011387875150713902, 0.011131908402434783, 0.011007439926118941], Valid dloss: [0.0213722388446331, 0.021729616552591324, 0.024624178606271745] gloss: [0.011798070147633552, 0.010810973035693169, 0.010709012394547463]\n",
            "Epoch 3: Train dloss: [0.02147960855452767, 0.021540217524991318, 0.021695112950231757, 0.021454151831429305] gloss: [0.011387875150713902, 0.011131908402434783, 0.011007439926118941, 0.01178400181966351], Valid dloss: [0.0213722388446331, 0.021729616552591324, 0.024624178606271745, 0.02151802406668663] gloss: [0.011798070147633552, 0.010810973035693169, 0.010709012394547463, 0.01074710606276989]\n",
            "Epoch 4: Train dloss: [0.02147960855452767, 0.021540217524991318, 0.021695112950231757, 0.021454151831429305, 0.021601424745416698] gloss: [0.011387875150713902, 0.011131908402434783, 0.011007439926118941, 0.01178400181966351, 0.010983189933505456], Valid dloss: [0.0213722388446331, 0.021729616552591324, 0.024624178606271745, 0.02151802406668663, 0.020226411002874374] gloss: [0.011798070147633552, 0.010810973035693169, 0.010709012394547463, 0.01074710606276989, 0.011801924332976341]\n",
            "Epoch 5: Train dloss: [0.02147960855452767, 0.021540217524991318, 0.021695112950231757, 0.021454151831429305, 0.021601424745416698, 0.02063115760739618] gloss: [0.011387875150713902, 0.011131908402434783, 0.011007439926118941, 0.01178400181966351, 0.010983189933505456, 0.013339423190510652], Valid dloss: [0.0213722388446331, 0.021729616552591324, 0.024624178606271745, 0.02151802406668663, 0.020226411002874374, 0.020794052468538285] gloss: [0.011798070147633552, 0.010810973035693169, 0.010709012394547463, 0.01074710606276989, 0.011801924332976341, 0.011202705263495445]\n",
            "Epoch 6: Train dloss: [0.02147960855452767, 0.021540217524991318, 0.021695112950231757, 0.021454151831429305, 0.021601424745416698, 0.02063115760739618, 0.021555065221572824] gloss: [0.011387875150713902, 0.011131908402434783, 0.011007439926118941, 0.01178400181966351, 0.010983189933505456, 0.013339423190510652, 0.011236528014884974], Valid dloss: [0.0213722388446331, 0.021729616552591324, 0.024624178606271745, 0.02151802406668663, 0.020226411002874374, 0.020794052468538285, 0.021853674018383028] gloss: [0.011798070147633552, 0.010810973035693169, 0.010709012394547463, 0.01074710606276989, 0.011801924332976341, 0.011202705263495445, 0.014406018325686455]\n",
            "Epoch 7: Train dloss: [0.02147960855452767, 0.021540217524991318, 0.021695112950231757, 0.021454151831429305, 0.021601424745416698, 0.02063115760739618, 0.021555065221572824, 0.02091799796098241] gloss: [0.011387875150713902, 0.011131908402434783, 0.011007439926118941, 0.01178400181966351, 0.010983189933505456, 0.013339423190510652, 0.011236528014884974, 0.011785265195367963], Valid dloss: [0.0213722388446331, 0.021729616552591324, 0.024624178606271745, 0.02151802406668663, 0.020226411002874374, 0.020794052468538285, 0.021853674018383028, 0.023333476781845094] gloss: [0.011798070147633552, 0.010810973035693169, 0.010709012394547463, 0.01074710606276989, 0.011801924332976341, 0.011202705263495445, 0.014406018325686455, 0.012898780608773232]\n",
            "Epoch 8: Train dloss: [0.02147960855452767, 0.021540217524991318, 0.021695112950231757, 0.021454151831429305, 0.021601424745416698, 0.02063115760739618, 0.021555065221572824, 0.02091799796098241, 0.021668000614201335] gloss: [0.011387875150713902, 0.011131908402434783, 0.011007439926118941, 0.01178400181966351, 0.010983189933505456, 0.013339423190510652, 0.011236528014884974, 0.011785265195367963, 0.011073938095927896], Valid dloss: [0.0213722388446331, 0.021729616552591324, 0.024624178606271745, 0.02151802406668663, 0.020226411002874374, 0.020794052468538285, 0.021853674018383028, 0.023333476781845094, 0.020879102391004562] gloss: [0.011798070147633552, 0.010810973035693169, 0.010709012394547463, 0.01074710606276989, 0.011801924332976341, 0.011202705263495445, 0.014406018325686455, 0.012898780608773232, 0.014737130368947983]\n",
            "Epoch 9: Train dloss: [0.02147960855452767, 0.021540217524991318, 0.021695112950231757, 0.021454151831429305, 0.021601424745416698, 0.02063115760739618, 0.021555065221572824, 0.02091799796098241, 0.021668000614201335, 0.021322086124685245] gloss: [0.011387875150713902, 0.011131908402434783, 0.011007439926118941, 0.01178400181966351, 0.010983189933505456, 0.013339423190510652, 0.011236528014884974, 0.011785265195367963, 0.011073938095927896, 0.0115507153310308], Valid dloss: [0.0213722388446331, 0.021729616552591324, 0.024624178606271745, 0.02151802406668663, 0.020226411002874374, 0.020794052468538285, 0.021853674018383028, 0.023333476781845094, 0.020879102391004562, 0.02044464944958687] gloss: [0.011798070147633552, 0.010810973035693169, 0.010709012394547463, 0.01074710606276989, 0.011801924332976341, 0.011202705263495445, 0.014406018325686455, 0.012898780608773232, 0.014737130368947983, 0.013931955848932266]\n",
            "Epoch 10: Train dloss: [0.02147960855452767, 0.021540217524991318, 0.021695112950231757, 0.021454151831429305, 0.021601424745416698, 0.02063115760739618, 0.021555065221572824, 0.02091799796098241, 0.021668000614201335, 0.021322086124685245, 0.02153394039710892] gloss: [0.011387875150713902, 0.011131908402434783, 0.011007439926118941, 0.01178400181966351, 0.010983189933505456, 0.013339423190510652, 0.011236528014884974, 0.011785265195367963, 0.011073938095927896, 0.0115507153310308, 0.011198410757231577], Valid dloss: [0.0213722388446331, 0.021729616552591324, 0.024624178606271745, 0.02151802406668663, 0.020226411002874374, 0.020794052468538285, 0.021853674018383028, 0.023333476781845094, 0.020879102391004562, 0.02044464944958687, 0.021608176658153535] gloss: [0.011798070147633552, 0.010810973035693169, 0.010709012394547463, 0.01074710606276989, 0.011801924332976341, 0.011202705263495445, 0.014406018325686455, 0.012898780608773232, 0.014737130368947983, 0.013931955848932266, 0.011012014915347099]\n",
            "Epoch 11: Train dloss: [0.02147960855452767, 0.021540217524991318, 0.021695112950231757, 0.021454151831429305, 0.021601424745416698, 0.02063115760739618, 0.021555065221572824, 0.02091799796098241, 0.021668000614201335, 0.021322086124685245, 0.02153394039710892, 0.021342129401756494] gloss: [0.011387875150713902, 0.011131908402434783, 0.011007439926118941, 0.01178400181966351, 0.010983189933505456, 0.013339423190510652, 0.011236528014884974, 0.011785265195367963, 0.011073938095927896, 0.0115507153310308, 0.011198410757231577, 0.011768293980413829], Valid dloss: [0.0213722388446331, 0.021729616552591324, 0.024624178606271745, 0.02151802406668663, 0.020226411002874374, 0.020794052468538285, 0.021853674018383028, 0.023333476781845094, 0.020879102391004562, 0.02044464944958687, 0.021608176658153535, 0.021453955246210098] gloss: [0.011798070147633552, 0.010810973035693169, 0.010709012394547463, 0.01074710606276989, 0.011801924332976341, 0.011202705263495445, 0.014406018325686455, 0.012898780608773232, 0.014737130368947983, 0.013931955848932266, 0.011012014915347099, 0.010758196967840195]\n",
            "Epoch 12: Train dloss: [0.02147960855452767, 0.021540217524991318, 0.021695112950231757, 0.021454151831429305, 0.021601424745416698, 0.02063115760739618, 0.021555065221572824, 0.02091799796098241, 0.021668000614201335, 0.021322086124685245, 0.02153394039710892, 0.021342129401756494, 0.02142588824281829] gloss: [0.011387875150713902, 0.011131908402434783, 0.011007439926118941, 0.01178400181966351, 0.010983189933505456, 0.013339423190510652, 0.011236528014884974, 0.011785265195367963, 0.011073938095927896, 0.0115507153310308, 0.011198410757231577, 0.011768293980413829, 0.01367301266701315], Valid dloss: [0.0213722388446331, 0.021729616552591324, 0.024624178606271745, 0.02151802406668663, 0.020226411002874374, 0.020794052468538285, 0.021853674018383028, 0.023333476781845094, 0.020879102391004562, 0.02044464944958687, 0.021608176658153535, 0.021453955246210098, 0.02256894648194313] gloss: [0.011798070147633552, 0.010810973035693169, 0.010709012394547463, 0.01074710606276989, 0.011801924332976341, 0.011202705263495445, 0.014406018325686455, 0.012898780608773232, 0.014737130368947983, 0.013931955848932266, 0.011012014915347099, 0.010758196967840195, 0.017281566157341003]\n",
            "Epoch 13: Train dloss: [0.02147960855452767, 0.021540217524991318, 0.021695112950231757, 0.021454151831429305, 0.021601424745416698, 0.02063115760739618, 0.021555065221572824, 0.02091799796098241, 0.021668000614201335, 0.021322086124685245, 0.02153394039710892, 0.021342129401756494, 0.02142588824281829, 0.02140290816656812] gloss: [0.011387875150713902, 0.011131908402434783, 0.011007439926118941, 0.01178400181966351, 0.010983189933505456, 0.013339423190510652, 0.011236528014884974, 0.011785265195367963, 0.011073938095927896, 0.0115507153310308, 0.011198410757231577, 0.011768293980413829, 0.01367301266701315, 0.0114006300627222], Valid dloss: [0.0213722388446331, 0.021729616552591324, 0.024624178606271745, 0.02151802406668663, 0.020226411002874374, 0.020794052468538285, 0.021853674018383028, 0.023333476781845094, 0.020879102391004562, 0.02044464944958687, 0.021608176658153535, 0.021453955246210098, 0.02256894648194313, 0.02174500736117363] gloss: [0.011798070147633552, 0.010810973035693169, 0.010709012394547463, 0.01074710606276989, 0.011801924332976341, 0.011202705263495445, 0.014406018325686455, 0.012898780608773232, 0.014737130368947983, 0.013931955848932266, 0.011012014915347099, 0.010758196967840195, 0.017281566157341003, 0.010646673982143402]\n",
            "Epoch 14: Train dloss: [0.02147960855452767, 0.021540217524991318, 0.021695112950231757, 0.021454151831429305, 0.021601424745416698, 0.02063115760739618, 0.021555065221572824, 0.02091799796098241, 0.021668000614201335, 0.021322086124685245, 0.02153394039710892, 0.021342129401756494, 0.02142588824281829, 0.02140290816656812, 0.02159922310200809] gloss: [0.011387875150713902, 0.011131908402434783, 0.011007439926118941, 0.01178400181966351, 0.010983189933505456, 0.013339423190510652, 0.011236528014884974, 0.011785265195367963, 0.011073938095927896, 0.0115507153310308, 0.011198410757231577, 0.011768293980413829, 0.01367301266701315, 0.0114006300627222, 0.0109391172091823], Valid dloss: [0.0213722388446331, 0.021729616552591324, 0.024624178606271745, 0.02151802406668663, 0.020226411002874374, 0.020794052468538285, 0.021853674018383028, 0.023333476781845094, 0.020879102391004562, 0.02044464944958687, 0.021608176658153535, 0.021453955246210098, 0.02256894648194313, 0.02174500736117363, 0.019796084567308424] gloss: [0.011798070147633552, 0.010810973035693169, 0.010709012394547463, 0.01074710606276989, 0.011801924332976341, 0.011202705263495445, 0.014406018325686455, 0.012898780608773232, 0.014737130368947983, 0.013931955848932266, 0.011012014915347099, 0.010758196967840195, 0.017281566157341003, 0.010646673982143402, 0.011994876592755317]\n",
            "Epoch 15: Train dloss: [0.02147960855452767, 0.021540217524991318, 0.021695112950231757, 0.021454151831429305, 0.021601424745416698, 0.02063115760739618, 0.021555065221572824, 0.02091799796098241, 0.021668000614201335, 0.021322086124685245, 0.02153394039710892, 0.021342129401756494, 0.02142588824281829, 0.02140290816656812, 0.02159922310200809, 0.02111065491719828] gloss: [0.011387875150713902, 0.011131908402434783, 0.011007439926118941, 0.01178400181966351, 0.010983189933505456, 0.013339423190510652, 0.011236528014884974, 0.011785265195367963, 0.011073938095927896, 0.0115507153310308, 0.011198410757231577, 0.011768293980413829, 0.01367301266701315, 0.0114006300627222, 0.0109391172091823, 0.011821392911099689], Valid dloss: [0.0213722388446331, 0.021729616552591324, 0.024624178606271745, 0.02151802406668663, 0.020226411002874374, 0.020794052468538285, 0.021853674018383028, 0.023333476781845094, 0.020879102391004562, 0.02044464944958687, 0.021608176658153535, 0.021453955246210098, 0.02256894648194313, 0.02174500736117363, 0.019796084567308424, 0.021756853432655335] gloss: [0.011798070147633552, 0.010810973035693169, 0.010709012394547463, 0.01074710606276989, 0.011801924332976341, 0.011202705263495445, 0.014406018325686455, 0.012898780608773232, 0.014737130368947983, 0.013931955848932266, 0.011012014915347099, 0.010758196967840195, 0.017281566157341003, 0.010646673982143402, 0.011994876592755317, 0.011045916286110877]\n",
            "Epoch 16: Train dloss: [0.02147960855452767, 0.021540217524991318, 0.021695112950231757, 0.021454151831429305, 0.021601424745416698, 0.02063115760739618, 0.021555065221572824, 0.02091799796098241, 0.021668000614201335, 0.021322086124685245, 0.02153394039710892, 0.021342129401756494, 0.02142588824281829, 0.02140290816656812, 0.02159922310200809, 0.02111065491719828, 0.02163409036264044] gloss: [0.011387875150713902, 0.011131908402434783, 0.011007439926118941, 0.01178400181966351, 0.010983189933505456, 0.013339423190510652, 0.011236528014884974, 0.011785265195367963, 0.011073938095927896, 0.0115507153310308, 0.011198410757231577, 0.011768293980413829, 0.01367301266701315, 0.0114006300627222, 0.0109391172091823, 0.011821392911099689, 0.010953944150967272], Valid dloss: [0.0213722388446331, 0.021729616552591324, 0.024624178606271745, 0.02151802406668663, 0.020226411002874374, 0.020794052468538285, 0.021853674018383028, 0.023333476781845094, 0.020879102391004562, 0.02044464944958687, 0.021608176658153535, 0.021453955246210098, 0.02256894648194313, 0.02174500736117363, 0.019796084567308424, 0.021756853432655335, 0.02170030955672264] gloss: [0.011798070147633552, 0.010810973035693169, 0.010709012394547463, 0.01074710606276989, 0.011801924332976341, 0.011202705263495445, 0.014406018325686455, 0.012898780608773232, 0.014737130368947983, 0.013931955848932266, 0.011012014915347099, 0.010758196967840195, 0.017281566157341003, 0.010646673982143402, 0.011994876592755317, 0.011045916286110877, 0.010870529225468635]\n",
            "Epoch 17: Train dloss: [0.02147960855452767, 0.021540217524991318, 0.021695112950231757, 0.021454151831429305, 0.021601424745416698, 0.02063115760739618, 0.021555065221572824, 0.02091799796098241, 0.021668000614201335, 0.021322086124685245, 0.02153394039710892, 0.021342129401756494, 0.02142588824281829, 0.02140290816656812, 0.02159922310200809, 0.02111065491719828, 0.02163409036264044, 0.02165716350239767] gloss: [0.011387875150713902, 0.011131908402434783, 0.011007439926118941, 0.01178400181966351, 0.010983189933505456, 0.013339423190510652, 0.011236528014884974, 0.011785265195367963, 0.011073938095927896, 0.0115507153310308, 0.011198410757231577, 0.011768293980413829, 0.01367301266701315, 0.0114006300627222, 0.0109391172091823, 0.011821392911099689, 0.010953944150967272, 0.01098573157522926], Valid dloss: [0.0213722388446331, 0.021729616552591324, 0.024624178606271745, 0.02151802406668663, 0.020226411002874374, 0.020794052468538285, 0.021853674018383028, 0.023333476781845094, 0.020879102391004562, 0.02044464944958687, 0.021608176658153535, 0.021453955246210098, 0.02256894648194313, 0.02174500736117363, 0.019796084567308424, 0.021756853432655335, 0.02170030955672264, 0.021663997098207474] gloss: [0.011798070147633552, 0.010810973035693169, 0.010709012394547463, 0.01074710606276989, 0.011801924332976341, 0.011202705263495445, 0.014406018325686455, 0.012898780608773232, 0.014737130368947983, 0.013931955848932266, 0.011012014915347099, 0.010758196967840195, 0.017281566157341003, 0.010646673982143402, 0.011994876592755317, 0.011045916286110877, 0.010870529225468635, 0.010797102460861206]\n",
            "Epoch 18: Train dloss: [0.02147960855452767, 0.021540217524991318, 0.021695112950231757, 0.021454151831429305, 0.021601424745416698, 0.02063115760739618, 0.021555065221572824, 0.02091799796098241, 0.021668000614201335, 0.021322086124685245, 0.02153394039710892, 0.021342129401756494, 0.02142588824281829, 0.02140290816656812, 0.02159922310200809, 0.02111065491719828, 0.02163409036264044, 0.02165716350239767, 0.02150536811976248] gloss: [0.011387875150713902, 0.011131908402434783, 0.011007439926118941, 0.01178400181966351, 0.010983189933505456, 0.013339423190510652, 0.011236528014884974, 0.011785265195367963, 0.011073938095927896, 0.0115507153310308, 0.011198410757231577, 0.011768293980413829, 0.01367301266701315, 0.0114006300627222, 0.0109391172091823, 0.011821392911099689, 0.010953944150967272, 0.01098573157522926, 0.011264333304337062], Valid dloss: [0.0213722388446331, 0.021729616552591324, 0.024624178606271745, 0.02151802406668663, 0.020226411002874374, 0.020794052468538285, 0.021853674018383028, 0.023333476781845094, 0.020879102391004562, 0.02044464944958687, 0.021608176658153535, 0.021453955246210098, 0.02256894648194313, 0.02174500736117363, 0.019796084567308424, 0.021756853432655335, 0.02170030955672264, 0.021663997098207474, 0.019780776582956315] gloss: [0.011798070147633552, 0.010810973035693169, 0.010709012394547463, 0.01074710606276989, 0.011801924332976341, 0.011202705263495445, 0.014406018325686455, 0.012898780608773232, 0.014737130368947983, 0.013931955848932266, 0.011012014915347099, 0.010758196967840195, 0.017281566157341003, 0.010646673982143402, 0.011994876592755317, 0.011045916286110877, 0.010870529225468635, 0.010797102460861206, 0.011382918720245362]\n",
            "Epoch 19: Train dloss: [0.02147960855452767, 0.021540217524991318, 0.021695112950231757, 0.021454151831429305, 0.021601424745416698, 0.02063115760739618, 0.021555065221572824, 0.02091799796098241, 0.021668000614201335, 0.021322086124685245, 0.02153394039710892, 0.021342129401756494, 0.02142588824281829, 0.02140290816656812, 0.02159922310200809, 0.02111065491719828, 0.02163409036264044, 0.02165716350239767, 0.02150536811976248, 0.021645364836444594] gloss: [0.011387875150713902, 0.011131908402434783, 0.011007439926118941, 0.01178400181966351, 0.010983189933505456, 0.013339423190510652, 0.011236528014884974, 0.011785265195367963, 0.011073938095927896, 0.0115507153310308, 0.011198410757231577, 0.011768293980413829, 0.01367301266701315, 0.0114006300627222, 0.0109391172091823, 0.011821392911099689, 0.010953944150967272, 0.01098573157522926, 0.011264333304337062, 0.011245323652159413], Valid dloss: [0.0213722388446331, 0.021729616552591324, 0.024624178606271745, 0.02151802406668663, 0.020226411002874374, 0.020794052468538285, 0.021853674018383028, 0.023333476781845094, 0.020879102391004562, 0.02044464944958687, 0.021608176658153535, 0.021453955246210098, 0.02256894648194313, 0.02174500736117363, 0.019796084567308424, 0.021756853432655335, 0.02170030955672264, 0.021663997098207474, 0.019780776582956315, 0.02161187252640724] gloss: [0.011798070147633552, 0.010810973035693169, 0.010709012394547463, 0.01074710606276989, 0.011801924332976341, 0.011202705263495445, 0.014406018325686455, 0.012898780608773232, 0.014737130368947983, 0.013931955848932266, 0.011012014915347099, 0.010758196967840195, 0.017281566157341003, 0.010646673982143402, 0.011994876592755317, 0.011045916286110877, 0.010870529225468635, 0.010797102460861206, 0.011382918720245362, 0.010843679735064506]\n",
            "Epoch 20: Train dloss: [0.02147960855452767, 0.021540217524991318, 0.021695112950231757, 0.021454151831429305, 0.021601424745416698, 0.02063115760739618, 0.021555065221572824, 0.02091799796098241, 0.021668000614201335, 0.021322086124685245, 0.02153394039710892, 0.021342129401756494, 0.02142588824281829, 0.02140290816656812, 0.02159922310200809, 0.02111065491719828, 0.02163409036264044, 0.02165716350239767, 0.02150536811976248, 0.021645364836444594, 0.021481445927879213] gloss: [0.011387875150713902, 0.011131908402434783, 0.011007439926118941, 0.01178400181966351, 0.010983189933505456, 0.013339423190510652, 0.011236528014884974, 0.011785265195367963, 0.011073938095927896, 0.0115507153310308, 0.011198410757231577, 0.011768293980413829, 0.01367301266701315, 0.0114006300627222, 0.0109391172091823, 0.011821392911099689, 0.010953944150967272, 0.01098573157522926, 0.011264333304337062, 0.011245323652159413, 0.01142535555555079], Valid dloss: [0.0213722388446331, 0.021729616552591324, 0.024624178606271745, 0.02151802406668663, 0.020226411002874374, 0.020794052468538285, 0.021853674018383028, 0.023333476781845094, 0.020879102391004562, 0.02044464944958687, 0.021608176658153535, 0.021453955246210098, 0.02256894648194313, 0.02174500736117363, 0.019796084567308424, 0.021756853432655335, 0.02170030955672264, 0.021663997098207474, 0.019780776582956315, 0.02161187252640724, 0.021521540613174437] gloss: [0.011798070147633552, 0.010810973035693169, 0.010709012394547463, 0.01074710606276989, 0.011801924332976341, 0.011202705263495445, 0.014406018325686455, 0.012898780608773232, 0.014737130368947983, 0.013931955848932266, 0.011012014915347099, 0.010758196967840195, 0.017281566157341003, 0.010646673982143402, 0.011994876592755317, 0.011045916286110877, 0.010870529225468635, 0.010797102460861206, 0.011382918720245362, 0.010843679735064506, 0.010989570422172546]\n",
            "Epoch 21: Train dloss: [0.02147960855452767, 0.021540217524991318, 0.021695112950231757, 0.021454151831429305, 0.021601424745416698, 0.02063115760739618, 0.021555065221572824, 0.02091799796098241, 0.021668000614201335, 0.021322086124685245, 0.02153394039710892, 0.021342129401756494, 0.02142588824281829, 0.02140290816656812, 0.02159922310200809, 0.02111065491719828, 0.02163409036264044, 0.02165716350239767, 0.02150536811976248, 0.021645364836444594, 0.021481445927879213, 0.02163634413656716] gloss: [0.011387875150713902, 0.011131908402434783, 0.011007439926118941, 0.01178400181966351, 0.010983189933505456, 0.013339423190510652, 0.011236528014884974, 0.011785265195367963, 0.011073938095927896, 0.0115507153310308, 0.011198410757231577, 0.011768293980413829, 0.01367301266701315, 0.0114006300627222, 0.0109391172091823, 0.011821392911099689, 0.010953944150967272, 0.01098573157522926, 0.011264333304337062, 0.011245323652159413, 0.01142535555555079, 0.011000241939624612], Valid dloss: [0.0213722388446331, 0.021729616552591324, 0.024624178606271745, 0.02151802406668663, 0.020226411002874374, 0.020794052468538285, 0.021853674018383028, 0.023333476781845094, 0.020879102391004562, 0.02044464944958687, 0.021608176658153535, 0.021453955246210098, 0.02256894648194313, 0.02174500736117363, 0.019796084567308424, 0.021756853432655335, 0.02170030955672264, 0.021663997098207474, 0.019780776582956315, 0.02161187252640724, 0.021521540613174437, 0.021695982407331466] gloss: [0.011798070147633552, 0.010810973035693169, 0.010709012394547463, 0.01074710606276989, 0.011801924332976341, 0.011202705263495445, 0.014406018325686455, 0.012898780608773232, 0.014737130368947983, 0.013931955848932266, 0.011012014915347099, 0.010758196967840195, 0.017281566157341003, 0.010646673982143402, 0.011994876592755317, 0.011045916286110877, 0.010870529225468635, 0.010797102460861206, 0.011382918720245362, 0.010843679735064506, 0.010989570422172546, 0.01156930626988411]\n",
            "Epoch 22: Train dloss: [0.02147960855452767, 0.021540217524991318, 0.021695112950231757, 0.021454151831429305, 0.021601424745416698, 0.02063115760739618, 0.021555065221572824, 0.02091799796098241, 0.021668000614201335, 0.021322086124685245, 0.02153394039710892, 0.021342129401756494, 0.02142588824281829, 0.02140290816656812, 0.02159922310200809, 0.02111065491719828, 0.02163409036264044, 0.02165716350239767, 0.02150536811976248, 0.021645364836444594, 0.021481445927879213, 0.02163634413656716, 0.02166030982140516] gloss: [0.011387875150713902, 0.011131908402434783, 0.011007439926118941, 0.01178400181966351, 0.010983189933505456, 0.013339423190510652, 0.011236528014884974, 0.011785265195367963, 0.011073938095927896, 0.0115507153310308, 0.011198410757231577, 0.011768293980413829, 0.01367301266701315, 0.0114006300627222, 0.0109391172091823, 0.011821392911099689, 0.010953944150967272, 0.01098573157522926, 0.011264333304337062, 0.011245323652159413, 0.01142535555555079, 0.011000241939624612, 0.011004525151370842], Valid dloss: [0.0213722388446331, 0.021729616552591324, 0.024624178606271745, 0.02151802406668663, 0.020226411002874374, 0.020794052468538285, 0.021853674018383028, 0.023333476781845094, 0.020879102391004562, 0.02044464944958687, 0.021608176658153535, 0.021453955246210098, 0.02256894648194313, 0.02174500736117363, 0.019796084567308424, 0.021756853432655335, 0.02170030955672264, 0.021663997098207474, 0.019780776582956315, 0.02161187252640724, 0.021521540613174437, 0.021695982407331466, 0.0217393703854084] gloss: [0.011798070147633552, 0.010810973035693169, 0.010709012394547463, 0.01074710606276989, 0.011801924332976341, 0.011202705263495445, 0.014406018325686455, 0.012898780608773232, 0.014737130368947983, 0.013931955848932266, 0.011012014915347099, 0.010758196967840195, 0.017281566157341003, 0.010646673982143402, 0.011994876592755317, 0.011045916286110877, 0.010870529225468635, 0.010797102460861206, 0.011382918720245362, 0.010843679735064506, 0.010989570422172546, 0.01156930626988411, 0.010529045128226281]\n",
            "Epoch 23: Train dloss: [0.02147960855452767, 0.021540217524991318, 0.021695112950231757, 0.021454151831429305, 0.021601424745416698, 0.02063115760739618, 0.021555065221572824, 0.02091799796098241, 0.021668000614201335, 0.021322086124685245, 0.02153394039710892, 0.021342129401756494, 0.02142588824281829, 0.02140290816656812, 0.02159922310200809, 0.02111065491719828, 0.02163409036264044, 0.02165716350239767, 0.02150536811976248, 0.021645364836444594, 0.021481445927879213, 0.02163634413656716, 0.02166030982140516, 0.021667000890019227] gloss: [0.011387875150713902, 0.011131908402434783, 0.011007439926118941, 0.01178400181966351, 0.010983189933505456, 0.013339423190510652, 0.011236528014884974, 0.011785265195367963, 0.011073938095927896, 0.0115507153310308, 0.011198410757231577, 0.011768293980413829, 0.01367301266701315, 0.0114006300627222, 0.0109391172091823, 0.011821392911099689, 0.010953944150967272, 0.01098573157522926, 0.011264333304337062, 0.011245323652159413, 0.01142535555555079, 0.011000241939624612, 0.011004525151370842, 0.012731478167568559], Valid dloss: [0.0213722388446331, 0.021729616552591324, 0.024624178606271745, 0.02151802406668663, 0.020226411002874374, 0.020794052468538285, 0.021853674018383028, 0.023333476781845094, 0.020879102391004562, 0.02044464944958687, 0.021608176658153535, 0.021453955246210098, 0.02256894648194313, 0.02174500736117363, 0.019796084567308424, 0.021756853432655335, 0.02170030955672264, 0.021663997098207474, 0.019780776582956315, 0.02161187252640724, 0.021521540613174437, 0.021695982407331466, 0.0217393703854084, 0.02583985698223114] gloss: [0.011798070147633552, 0.010810973035693169, 0.010709012394547463, 0.01074710606276989, 0.011801924332976341, 0.011202705263495445, 0.014406018325686455, 0.012898780608773232, 0.014737130368947983, 0.013931955848932266, 0.011012014915347099, 0.010758196967840195, 0.017281566157341003, 0.010646673982143402, 0.011994876592755317, 0.011045916286110877, 0.010870529225468635, 0.010797102460861206, 0.011382918720245362, 0.010843679735064506, 0.010989570422172546, 0.01156930626988411, 0.010529045128226281, 0.012616356949806213]\n",
            "Epoch 24: Train dloss: [0.02147960855452767, 0.021540217524991318, 0.021695112950231757, 0.021454151831429305, 0.021601424745416698, 0.02063115760739618, 0.021555065221572824, 0.02091799796098241, 0.021668000614201335, 0.021322086124685245, 0.02153394039710892, 0.021342129401756494, 0.02142588824281829, 0.02140290816656812, 0.02159922310200809, 0.02111065491719828, 0.02163409036264044, 0.02165716350239767, 0.02150536811976248, 0.021645364836444594, 0.021481445927879213, 0.02163634413656716, 0.02166030982140516, 0.021667000890019227, 0.021418523224280075] gloss: [0.011387875150713902, 0.011131908402434783, 0.011007439926118941, 0.01178400181966351, 0.010983189933505456, 0.013339423190510652, 0.011236528014884974, 0.011785265195367963, 0.011073938095927896, 0.0115507153310308, 0.011198410757231577, 0.011768293980413829, 0.01367301266701315, 0.0114006300627222, 0.0109391172091823, 0.011821392911099689, 0.010953944150967272, 0.01098573157522926, 0.011264333304337062, 0.011245323652159413, 0.01142535555555079, 0.011000241939624612, 0.011004525151370842, 0.012731478167568559, 0.011618211137144483], Valid dloss: [0.0213722388446331, 0.021729616552591324, 0.024624178606271745, 0.02151802406668663, 0.020226411002874374, 0.020794052468538285, 0.021853674018383028, 0.023333476781845094, 0.020879102391004562, 0.02044464944958687, 0.021608176658153535, 0.021453955246210098, 0.02256894648194313, 0.02174500736117363, 0.019796084567308424, 0.021756853432655335, 0.02170030955672264, 0.021663997098207474, 0.019780776582956315, 0.02161187252640724, 0.021521540613174437, 0.021695982407331466, 0.0217393703854084, 0.02583985698223114, 0.021675815316438675] gloss: [0.011798070147633552, 0.010810973035693169, 0.010709012394547463, 0.01074710606276989, 0.011801924332976341, 0.011202705263495445, 0.014406018325686455, 0.012898780608773232, 0.014737130368947983, 0.013931955848932266, 0.011012014915347099, 0.010758196967840195, 0.017281566157341003, 0.010646673982143402, 0.011994876592755317, 0.011045916286110877, 0.010870529225468635, 0.010797102460861206, 0.011382918720245362, 0.010843679735064506, 0.010989570422172546, 0.01156930626988411, 0.010529045128226281, 0.012616356949806213, 0.010821694731712342]\n",
            "Epoch 25: Train dloss: [0.02147960855452767, 0.021540217524991318, 0.021695112950231757, 0.021454151831429305, 0.021601424745416698, 0.02063115760739618, 0.021555065221572824, 0.02091799796098241, 0.021668000614201335, 0.021322086124685245, 0.02153394039710892, 0.021342129401756494, 0.02142588824281829, 0.02140290816656812, 0.02159922310200809, 0.02111065491719828, 0.02163409036264044, 0.02165716350239767, 0.02150536811976248, 0.021645364836444594, 0.021481445927879213, 0.02163634413656716, 0.02166030982140516, 0.021667000890019227, 0.021418523224280075, 0.021246845393498096] gloss: [0.011387875150713902, 0.011131908402434783, 0.011007439926118941, 0.01178400181966351, 0.010983189933505456, 0.013339423190510652, 0.011236528014884974, 0.011785265195367963, 0.011073938095927896, 0.0115507153310308, 0.011198410757231577, 0.011768293980413829, 0.01367301266701315, 0.0114006300627222, 0.0109391172091823, 0.011821392911099689, 0.010953944150967272, 0.01098573157522926, 0.011264333304337062, 0.011245323652159413, 0.01142535555555079, 0.011000241939624612, 0.011004525151370842, 0.012731478167568559, 0.011618211137144483, 0.011572995312844312], Valid dloss: [0.0213722388446331, 0.021729616552591324, 0.024624178606271745, 0.02151802406668663, 0.020226411002874374, 0.020794052468538285, 0.021853674018383028, 0.023333476781845094, 0.020879102391004562, 0.02044464944958687, 0.021608176658153535, 0.021453955246210098, 0.02256894648194313, 0.02174500736117363, 0.019796084567308424, 0.021756853432655335, 0.02170030955672264, 0.021663997098207474, 0.019780776582956315, 0.02161187252640724, 0.021521540613174437, 0.021695982407331466, 0.0217393703854084, 0.02583985698223114, 0.021675815316438675, 0.02084535904288292] gloss: [0.011798070147633552, 0.010810973035693169, 0.010709012394547463, 0.01074710606276989, 0.011801924332976341, 0.011202705263495445, 0.014406018325686455, 0.012898780608773232, 0.014737130368947983, 0.013931955848932266, 0.011012014915347099, 0.010758196967840195, 0.017281566157341003, 0.010646673982143402, 0.011994876592755317, 0.011045916286110877, 0.010870529225468635, 0.010797102460861206, 0.011382918720245362, 0.010843679735064506, 0.010989570422172546, 0.01156930626988411, 0.010529045128226281, 0.012616356949806213, 0.010821694731712342, 0.011716049141287804]\n",
            "Epoch 26: Train dloss: [0.02147960855452767, 0.021540217524991318, 0.021695112950231757, 0.021454151831429305, 0.021601424745416698, 0.02063115760739618, 0.021555065221572824, 0.02091799796098241, 0.021668000614201335, 0.021322086124685245, 0.02153394039710892, 0.021342129401756494, 0.02142588824281829, 0.02140290816656812, 0.02159922310200809, 0.02111065491719828, 0.02163409036264044, 0.02165716350239767, 0.02150536811976248, 0.021645364836444594, 0.021481445927879213, 0.02163634413656716, 0.02166030982140516, 0.021667000890019227, 0.021418523224280075, 0.021246845393498096, 0.02158817139990477] gloss: [0.011387875150713902, 0.011131908402434783, 0.011007439926118941, 0.01178400181966351, 0.010983189933505456, 0.013339423190510652, 0.011236528014884974, 0.011785265195367963, 0.011073938095927896, 0.0115507153310308, 0.011198410757231577, 0.011768293980413829, 0.01367301266701315, 0.0114006300627222, 0.0109391172091823, 0.011821392911099689, 0.010953944150967272, 0.01098573157522926, 0.011264333304337062, 0.011245323652159413, 0.01142535555555079, 0.011000241939624612, 0.011004525151370842, 0.012731478167568559, 0.011618211137144483, 0.011572995312844312, 0.011204667924293659], Valid dloss: [0.0213722388446331, 0.021729616552591324, 0.024624178606271745, 0.02151802406668663, 0.020226411002874374, 0.020794052468538285, 0.021853674018383028, 0.023333476781845094, 0.020879102391004562, 0.02044464944958687, 0.021608176658153535, 0.021453955246210098, 0.02256894648194313, 0.02174500736117363, 0.019796084567308424, 0.021756853432655335, 0.02170030955672264, 0.021663997098207474, 0.019780776582956315, 0.02161187252640724, 0.021521540613174437, 0.021695982407331466, 0.0217393703854084, 0.02583985698223114, 0.021675815316438675, 0.02084535904288292, 0.021653181051015855] gloss: [0.011798070147633552, 0.010810973035693169, 0.010709012394547463, 0.01074710606276989, 0.011801924332976341, 0.011202705263495445, 0.014406018325686455, 0.012898780608773232, 0.014737130368947983, 0.013931955848932266, 0.011012014915347099, 0.010758196967840195, 0.017281566157341003, 0.010646673982143402, 0.011994876592755317, 0.011045916286110877, 0.010870529225468635, 0.010797102460861206, 0.011382918720245362, 0.010843679735064506, 0.010989570422172546, 0.01156930626988411, 0.010529045128226281, 0.012616356949806213, 0.010821694731712342, 0.011716049141287804, 0.010893728842139244]\n",
            "Epoch 27: Train dloss: [0.02147960855452767, 0.021540217524991318, 0.021695112950231757, 0.021454151831429305, 0.021601424745416698, 0.02063115760739618, 0.021555065221572824, 0.02091799796098241, 0.021668000614201335, 0.021322086124685245, 0.02153394039710892, 0.021342129401756494, 0.02142588824281829, 0.02140290816656812, 0.02159922310200809, 0.02111065491719828, 0.02163409036264044, 0.02165716350239767, 0.02150536811976248, 0.021645364836444594, 0.021481445927879213, 0.02163634413656716, 0.02166030982140516, 0.021667000890019227, 0.021418523224280075, 0.021246845393498096, 0.02158817139990477, 0.021314447873811246] gloss: [0.011387875150713902, 0.011131908402434783, 0.011007439926118941, 0.01178400181966351, 0.010983189933505456, 0.013339423190510652, 0.011236528014884974, 0.011785265195367963, 0.011073938095927896, 0.0115507153310308, 0.011198410757231577, 0.011768293980413829, 0.01367301266701315, 0.0114006300627222, 0.0109391172091823, 0.011821392911099689, 0.010953944150967272, 0.01098573157522926, 0.011264333304337062, 0.011245323652159413, 0.01142535555555079, 0.011000241939624612, 0.011004525151370842, 0.012731478167568559, 0.011618211137144483, 0.011572995312844312, 0.011204667924293659, 0.01154292746822305], Valid dloss: [0.0213722388446331, 0.021729616552591324, 0.024624178606271745, 0.02151802406668663, 0.020226411002874374, 0.020794052468538285, 0.021853674018383028, 0.023333476781845094, 0.020879102391004562, 0.02044464944958687, 0.021608176658153535, 0.021453955246210098, 0.02256894648194313, 0.02174500736117363, 0.019796084567308424, 0.021756853432655335, 0.02170030955672264, 0.021663997098207474, 0.019780776582956315, 0.02161187252640724, 0.021521540613174437, 0.021695982407331466, 0.0217393703854084, 0.02583985698223114, 0.021675815316438675, 0.02084535904288292, 0.021653181051015855, 0.02242604893088341] gloss: [0.011798070147633552, 0.010810973035693169, 0.010709012394547463, 0.01074710606276989, 0.011801924332976341, 0.011202705263495445, 0.014406018325686455, 0.012898780608773232, 0.014737130368947983, 0.013931955848932266, 0.011012014915347099, 0.010758196967840195, 0.017281566157341003, 0.010646673982143402, 0.011994876592755317, 0.011045916286110877, 0.010870529225468635, 0.010797102460861206, 0.011382918720245362, 0.010843679735064506, 0.010989570422172546, 0.01156930626988411, 0.010529045128226281, 0.012616356949806213, 0.010821694731712342, 0.011716049141287804, 0.010893728842139244, 0.011035537013411522]\n",
            "Epoch 28: Train dloss: [0.02147960855452767, 0.021540217524991318, 0.021695112950231757, 0.021454151831429305, 0.021601424745416698, 0.02063115760739618, 0.021555065221572824, 0.02091799796098241, 0.021668000614201335, 0.021322086124685245, 0.02153394039710892, 0.021342129401756494, 0.02142588824281829, 0.02140290816656812, 0.02159922310200809, 0.02111065491719828, 0.02163409036264044, 0.02165716350239767, 0.02150536811976248, 0.021645364836444594, 0.021481445927879213, 0.02163634413656716, 0.02166030982140516, 0.021667000890019227, 0.021418523224280075, 0.021246845393498096, 0.02158817139990477, 0.021314447873811246, 0.021022058041378737] gloss: [0.011387875150713902, 0.011131908402434783, 0.011007439926118941, 0.01178400181966351, 0.010983189933505456, 0.013339423190510652, 0.011236528014884974, 0.011785265195367963, 0.011073938095927896, 0.0115507153310308, 0.011198410757231577, 0.011768293980413829, 0.01367301266701315, 0.0114006300627222, 0.0109391172091823, 0.011821392911099689, 0.010953944150967272, 0.01098573157522926, 0.011264333304337062, 0.011245323652159413, 0.01142535555555079, 0.011000241939624612, 0.011004525151370842, 0.012731478167568559, 0.011618211137144483, 0.011572995312844312, 0.011204667924293659, 0.01154292746822305, 0.012325176500651834], Valid dloss: [0.0213722388446331, 0.021729616552591324, 0.024624178606271745, 0.02151802406668663, 0.020226411002874374, 0.020794052468538285, 0.021853674018383028, 0.023333476781845094, 0.020879102391004562, 0.02044464944958687, 0.021608176658153535, 0.021453955246210098, 0.02256894648194313, 0.02174500736117363, 0.019796084567308424, 0.021756853432655335, 0.02170030955672264, 0.021663997098207474, 0.019780776582956315, 0.02161187252640724, 0.021521540613174437, 0.021695982407331466, 0.0217393703854084, 0.02583985698223114, 0.021675815316438675, 0.02084535904288292, 0.021653181051015855, 0.02242604893088341, 0.020962824008464814] gloss: [0.011798070147633552, 0.010810973035693169, 0.010709012394547463, 0.01074710606276989, 0.011801924332976341, 0.011202705263495445, 0.014406018325686455, 0.012898780608773232, 0.014737130368947983, 0.013931955848932266, 0.011012014915347099, 0.010758196967840195, 0.017281566157341003, 0.010646673982143402, 0.011994876592755317, 0.011045916286110877, 0.010870529225468635, 0.010797102460861206, 0.011382918720245362, 0.010843679735064506, 0.010989570422172546, 0.01156930626988411, 0.010529045128226281, 0.012616356949806213, 0.010821694731712342, 0.011716049141287804, 0.010893728842139244, 0.011035537013411522, 0.01092226823568344]\n",
            "Epoch 29: Train dloss: [0.02147960855452767, 0.021540217524991318, 0.021695112950231757, 0.021454151831429305, 0.021601424745416698, 0.02063115760739618, 0.021555065221572824, 0.02091799796098241, 0.021668000614201335, 0.021322086124685245, 0.02153394039710892, 0.021342129401756494, 0.02142588824281829, 0.02140290816656812, 0.02159922310200809, 0.02111065491719828, 0.02163409036264044, 0.02165716350239767, 0.02150536811976248, 0.021645364836444594, 0.021481445927879213, 0.02163634413656716, 0.02166030982140516, 0.021667000890019227, 0.021418523224280075, 0.021246845393498096, 0.02158817139990477, 0.021314447873811246, 0.021022058041378737, 0.021546009768931947] gloss: [0.011387875150713902, 0.011131908402434783, 0.011007439926118941, 0.01178400181966351, 0.010983189933505456, 0.013339423190510652, 0.011236528014884974, 0.011785265195367963, 0.011073938095927896, 0.0115507153310308, 0.011198410757231577, 0.011768293980413829, 0.01367301266701315, 0.0114006300627222, 0.0109391172091823, 0.011821392911099689, 0.010953944150967272, 0.01098573157522926, 0.011264333304337062, 0.011245323652159413, 0.01142535555555079, 0.011000241939624612, 0.011004525151370842, 0.012731478167568559, 0.011618211137144483, 0.011572995312844312, 0.011204667924293659, 0.01154292746822305, 0.012325176500651834, 0.011367094256415623], Valid dloss: [0.0213722388446331, 0.021729616552591324, 0.024624178606271745, 0.02151802406668663, 0.020226411002874374, 0.020794052468538285, 0.021853674018383028, 0.023333476781845094, 0.020879102391004562, 0.02044464944958687, 0.021608176658153535, 0.021453955246210098, 0.02256894648194313, 0.02174500736117363, 0.019796084567308424, 0.021756853432655335, 0.02170030955672264, 0.021663997098207474, 0.019780776582956315, 0.02161187252640724, 0.021521540613174437, 0.021695982407331466, 0.0217393703854084, 0.02583985698223114, 0.021675815316438675, 0.02084535904288292, 0.021653181051015855, 0.02242604893088341, 0.020962824008464814, 0.021528978031873702] gloss: [0.011798070147633552, 0.010810973035693169, 0.010709012394547463, 0.01074710606276989, 0.011801924332976341, 0.011202705263495445, 0.014406018325686455, 0.012898780608773232, 0.014737130368947983, 0.013931955848932266, 0.011012014915347099, 0.010758196967840195, 0.017281566157341003, 0.010646673982143402, 0.011994876592755317, 0.011045916286110877, 0.010870529225468635, 0.010797102460861206, 0.011382918720245362, 0.010843679735064506, 0.010989570422172546, 0.01156930626988411, 0.010529045128226281, 0.012616356949806213, 0.010821694731712342, 0.011716049141287804, 0.010893728842139244, 0.011035537013411522, 0.01092226823568344, 0.011692519651651382]\n",
            "Epoch 30: Train dloss: [0.02147960855452767, 0.021540217524991318, 0.021695112950231757, 0.021454151831429305, 0.021601424745416698, 0.02063115760739618, 0.021555065221572824, 0.02091799796098241, 0.021668000614201335, 0.021322086124685245, 0.02153394039710892, 0.021342129401756494, 0.02142588824281829, 0.02140290816656812, 0.02159922310200809, 0.02111065491719828, 0.02163409036264044, 0.02165716350239767, 0.02150536811976248, 0.021645364836444594, 0.021481445927879213, 0.02163634413656716, 0.02166030982140516, 0.021667000890019227, 0.021418523224280075, 0.021246845393498096, 0.02158817139990477, 0.021314447873811246, 0.021022058041378737, 0.021546009768931947, 0.02152680665606617] gloss: [0.011387875150713902, 0.011131908402434783, 0.011007439926118941, 0.01178400181966351, 0.010983189933505456, 0.013339423190510652, 0.011236528014884974, 0.011785265195367963, 0.011073938095927896, 0.0115507153310308, 0.011198410757231577, 0.011768293980413829, 0.01367301266701315, 0.0114006300627222, 0.0109391172091823, 0.011821392911099689, 0.010953944150967272, 0.01098573157522926, 0.011264333304337062, 0.011245323652159413, 0.01142535555555079, 0.011000241939624612, 0.011004525151370842, 0.012731478167568559, 0.011618211137144483, 0.011572995312844312, 0.011204667924293659, 0.01154292746822305, 0.012325176500651834, 0.011367094256415623, 0.011009628160521305], Valid dloss: [0.0213722388446331, 0.021729616552591324, 0.024624178606271745, 0.02151802406668663, 0.020226411002874374, 0.020794052468538285, 0.021853674018383028, 0.023333476781845094, 0.020879102391004562, 0.02044464944958687, 0.021608176658153535, 0.021453955246210098, 0.02256894648194313, 0.02174500736117363, 0.019796084567308424, 0.021756853432655335, 0.02170030955672264, 0.021663997098207474, 0.019780776582956315, 0.02161187252640724, 0.021521540613174437, 0.021695982407331466, 0.0217393703854084, 0.02583985698223114, 0.021675815316438675, 0.02084535904288292, 0.021653181051015855, 0.02242604893088341, 0.020962824008464814, 0.021528978031873702, 0.021505401591062547] gloss: [0.011798070147633552, 0.010810973035693169, 0.010709012394547463, 0.01074710606276989, 0.011801924332976341, 0.011202705263495445, 0.014406018325686455, 0.012898780608773232, 0.014737130368947983, 0.013931955848932266, 0.011012014915347099, 0.010758196967840195, 0.017281566157341003, 0.010646673982143402, 0.011994876592755317, 0.011045916286110877, 0.010870529225468635, 0.010797102460861206, 0.011382918720245362, 0.010843679735064506, 0.010989570422172546, 0.01156930626988411, 0.010529045128226281, 0.012616356949806213, 0.010821694731712342, 0.011716049141287804, 0.010893728842139244, 0.011035537013411522, 0.01092226823568344, 0.011692519651651382, 0.01176801135957241]\n",
            "Epoch 31: Train dloss: [0.02147960855452767, 0.021540217524991318, 0.021695112950231757, 0.021454151831429305, 0.021601424745416698, 0.02063115760739618, 0.021555065221572824, 0.02091799796098241, 0.021668000614201335, 0.021322086124685245, 0.02153394039710892, 0.021342129401756494, 0.02142588824281829, 0.02140290816656812, 0.02159922310200809, 0.02111065491719828, 0.02163409036264044, 0.02165716350239767, 0.02150536811976248, 0.021645364836444594, 0.021481445927879213, 0.02163634413656716, 0.02166030982140516, 0.021667000890019227, 0.021418523224280075, 0.021246845393498096, 0.02158817139990477, 0.021314447873811246, 0.021022058041378737, 0.021546009768931947, 0.02152680665606617, 0.021668973432914126] gloss: [0.011387875150713902, 0.011131908402434783, 0.011007439926118941, 0.01178400181966351, 0.010983189933505456, 0.013339423190510652, 0.011236528014884974, 0.011785265195367963, 0.011073938095927896, 0.0115507153310308, 0.011198410757231577, 0.011768293980413829, 0.01367301266701315, 0.0114006300627222, 0.0109391172091823, 0.011821392911099689, 0.010953944150967272, 0.01098573157522926, 0.011264333304337062, 0.011245323652159413, 0.01142535555555079, 0.011000241939624612, 0.011004525151370842, 0.012731478167568559, 0.011618211137144483, 0.011572995312844312, 0.011204667924293659, 0.01154292746822305, 0.012325176500651834, 0.011367094256415623, 0.011009628160521305, 0.01094991822142852], Valid dloss: [0.0213722388446331, 0.021729616552591324, 0.024624178606271745, 0.02151802406668663, 0.020226411002874374, 0.020794052468538285, 0.021853674018383028, 0.023333476781845094, 0.020879102391004562, 0.02044464944958687, 0.021608176658153535, 0.021453955246210098, 0.02256894648194313, 0.02174500736117363, 0.019796084567308424, 0.021756853432655335, 0.02170030955672264, 0.021663997098207474, 0.019780776582956315, 0.02161187252640724, 0.021521540613174437, 0.021695982407331466, 0.0217393703854084, 0.02583985698223114, 0.021675815316438675, 0.02084535904288292, 0.021653181051015855, 0.02242604893088341, 0.020962824008464814, 0.021528978031873702, 0.021505401591062547, 0.021924649102687835] gloss: [0.011798070147633552, 0.010810973035693169, 0.010709012394547463, 0.01074710606276989, 0.011801924332976341, 0.011202705263495445, 0.014406018325686455, 0.012898780608773232, 0.014737130368947983, 0.013931955848932266, 0.011012014915347099, 0.010758196967840195, 0.017281566157341003, 0.010646673982143402, 0.011994876592755317, 0.011045916286110877, 0.010870529225468635, 0.010797102460861206, 0.011382918720245362, 0.010843679735064506, 0.010989570422172546, 0.01156930626988411, 0.010529045128226281, 0.012616356949806213, 0.010821694731712342, 0.011716049141287804, 0.010893728842139244, 0.011035537013411522, 0.01092226823568344, 0.011692519651651382, 0.01176801135957241, 0.010718168870806694]\n",
            "Epoch 32: Train dloss: [0.02147960855452767, 0.021540217524991318, 0.021695112950231757, 0.021454151831429305, 0.021601424745416698, 0.02063115760739618, 0.021555065221572824, 0.02091799796098241, 0.021668000614201335, 0.021322086124685245, 0.02153394039710892, 0.021342129401756494, 0.02142588824281829, 0.02140290816656812, 0.02159922310200809, 0.02111065491719828, 0.02163409036264044, 0.02165716350239767, 0.02150536811976248, 0.021645364836444594, 0.021481445927879213, 0.02163634413656716, 0.02166030982140516, 0.021667000890019227, 0.021418523224280075, 0.021246845393498096, 0.02158817139990477, 0.021314447873811246, 0.021022058041378737, 0.021546009768931947, 0.02152680665606617, 0.021668973432914126, 0.021654392807183644] gloss: [0.011387875150713902, 0.011131908402434783, 0.011007439926118941, 0.01178400181966351, 0.010983189933505456, 0.013339423190510652, 0.011236528014884974, 0.011785265195367963, 0.011073938095927896, 0.0115507153310308, 0.011198410757231577, 0.011768293980413829, 0.01367301266701315, 0.0114006300627222, 0.0109391172091823, 0.011821392911099689, 0.010953944150967272, 0.01098573157522926, 0.011264333304337062, 0.011245323652159413, 0.01142535555555079, 0.011000241939624612, 0.011004525151370842, 0.012731478167568559, 0.011618211137144483, 0.011572995312844312, 0.011204667924293659, 0.01154292746822305, 0.012325176500651834, 0.011367094256415623, 0.011009628160521305, 0.01094991822142852, 0.010953023088026252], Valid dloss: [0.0213722388446331, 0.021729616552591324, 0.024624178606271745, 0.02151802406668663, 0.020226411002874374, 0.020794052468538285, 0.021853674018383028, 0.023333476781845094, 0.020879102391004562, 0.02044464944958687, 0.021608176658153535, 0.021453955246210098, 0.02256894648194313, 0.02174500736117363, 0.019796084567308424, 0.021756853432655335, 0.02170030955672264, 0.021663997098207474, 0.019780776582956315, 0.02161187252640724, 0.021521540613174437, 0.021695982407331466, 0.0217393703854084, 0.02583985698223114, 0.021675815316438675, 0.02084535904288292, 0.021653181051015855, 0.02242604893088341, 0.020962824008464814, 0.021528978031873702, 0.021505401591062547, 0.021924649102687835, 0.02165905627846718] gloss: [0.011798070147633552, 0.010810973035693169, 0.010709012394547463, 0.01074710606276989, 0.011801924332976341, 0.011202705263495445, 0.014406018325686455, 0.012898780608773232, 0.014737130368947983, 0.013931955848932266, 0.011012014915347099, 0.010758196967840195, 0.017281566157341003, 0.010646673982143402, 0.011994876592755317, 0.011045916286110877, 0.010870529225468635, 0.010797102460861206, 0.011382918720245362, 0.010843679735064506, 0.010989570422172546, 0.01156930626988411, 0.010529045128226281, 0.012616356949806213, 0.010821694731712342, 0.011716049141287804, 0.010893728842139244, 0.011035537013411522, 0.01092226823568344, 0.011692519651651382, 0.01176801135957241, 0.010718168870806694, 0.010855726705789565]\n",
            "Epoch 33: Train dloss: [0.02147960855452767, 0.021540217524991318, 0.021695112950231757, 0.021454151831429305, 0.021601424745416698, 0.02063115760739618, 0.021555065221572824, 0.02091799796098241, 0.021668000614201335, 0.021322086124685245, 0.02153394039710892, 0.021342129401756494, 0.02142588824281829, 0.02140290816656812, 0.02159922310200809, 0.02111065491719828, 0.02163409036264044, 0.02165716350239767, 0.02150536811976248, 0.021645364836444594, 0.021481445927879213, 0.02163634413656716, 0.02166030982140516, 0.021667000890019227, 0.021418523224280075, 0.021246845393498096, 0.02158817139990477, 0.021314447873811246, 0.021022058041378737, 0.021546009768931947, 0.02152680665606617, 0.021668973432914126, 0.021654392807183644, 0.021599857476308996] gloss: [0.011387875150713902, 0.011131908402434783, 0.011007439926118941, 0.01178400181966351, 0.010983189933505456, 0.013339423190510652, 0.011236528014884974, 0.011785265195367963, 0.011073938095927896, 0.0115507153310308, 0.011198410757231577, 0.011768293980413829, 0.01367301266701315, 0.0114006300627222, 0.0109391172091823, 0.011821392911099689, 0.010953944150967272, 0.01098573157522926, 0.011264333304337062, 0.011245323652159413, 0.01142535555555079, 0.011000241939624612, 0.011004525151370842, 0.012731478167568559, 0.011618211137144483, 0.011572995312844312, 0.011204667924293659, 0.01154292746822305, 0.012325176500651834, 0.011367094256415623, 0.011009628160521305, 0.01094991822142852, 0.010953023088026252, 0.011041667340323157], Valid dloss: [0.0213722388446331, 0.021729616552591324, 0.024624178606271745, 0.02151802406668663, 0.020226411002874374, 0.020794052468538285, 0.021853674018383028, 0.023333476781845094, 0.020879102391004562, 0.02044464944958687, 0.021608176658153535, 0.021453955246210098, 0.02256894648194313, 0.02174500736117363, 0.019796084567308424, 0.021756853432655335, 0.02170030955672264, 0.021663997098207474, 0.019780776582956315, 0.02161187252640724, 0.021521540613174437, 0.021695982407331466, 0.0217393703854084, 0.02583985698223114, 0.021675815316438675, 0.02084535904288292, 0.021653181051015855, 0.02242604893088341, 0.020962824008464814, 0.021528978031873702, 0.021505401591062547, 0.021924649102687835, 0.02165905627846718, 0.022027752895355225] gloss: [0.011798070147633552, 0.010810973035693169, 0.010709012394547463, 0.01074710606276989, 0.011801924332976341, 0.011202705263495445, 0.014406018325686455, 0.012898780608773232, 0.014737130368947983, 0.013931955848932266, 0.011012014915347099, 0.010758196967840195, 0.017281566157341003, 0.010646673982143402, 0.011994876592755317, 0.011045916286110877, 0.010870529225468635, 0.010797102460861206, 0.011382918720245362, 0.010843679735064506, 0.010989570422172546, 0.01156930626988411, 0.010529045128226281, 0.012616356949806213, 0.010821694731712342, 0.011716049141287804, 0.010893728842139244, 0.011035537013411522, 0.01092226823568344, 0.011692519651651382, 0.01176801135957241, 0.010718168870806694, 0.010855726705789565, 0.011198900325894356]\n",
            "Epoch 34: Train dloss: [0.02147960855452767, 0.021540217524991318, 0.021695112950231757, 0.021454151831429305, 0.021601424745416698, 0.02063115760739618, 0.021555065221572824, 0.02091799796098241, 0.021668000614201335, 0.021322086124685245, 0.02153394039710892, 0.021342129401756494, 0.02142588824281829, 0.02140290816656812, 0.02159922310200809, 0.02111065491719828, 0.02163409036264044, 0.02165716350239767, 0.02150536811976248, 0.021645364836444594, 0.021481445927879213, 0.02163634413656716, 0.02166030982140516, 0.021667000890019227, 0.021418523224280075, 0.021246845393498096, 0.02158817139990477, 0.021314447873811246, 0.021022058041378737, 0.021546009768931947, 0.02152680665606617, 0.021668973432914126, 0.021654392807183644, 0.021599857476308996, 0.021402159577490365] gloss: [0.011387875150713902, 0.011131908402434783, 0.011007439926118941, 0.01178400181966351, 0.010983189933505456, 0.013339423190510652, 0.011236528014884974, 0.011785265195367963, 0.011073938095927896, 0.0115507153310308, 0.011198410757231577, 0.011768293980413829, 0.01367301266701315, 0.0114006300627222, 0.0109391172091823, 0.011821392911099689, 0.010953944150967272, 0.01098573157522926, 0.011264333304337062, 0.011245323652159413, 0.01142535555555079, 0.011000241939624612, 0.011004525151370842, 0.012731478167568559, 0.011618211137144483, 0.011572995312844312, 0.011204667924293659, 0.01154292746822305, 0.012325176500651834, 0.011367094256415623, 0.011009628160521305, 0.01094991822142852, 0.010953023088026252, 0.011041667340323157, 0.012104502804240292], Valid dloss: [0.0213722388446331, 0.021729616552591324, 0.024624178606271745, 0.02151802406668663, 0.020226411002874374, 0.020794052468538285, 0.021853674018383028, 0.023333476781845094, 0.020879102391004562, 0.02044464944958687, 0.021608176658153535, 0.021453955246210098, 0.02256894648194313, 0.02174500736117363, 0.019796084567308424, 0.021756853432655335, 0.02170030955672264, 0.021663997098207474, 0.019780776582956315, 0.02161187252640724, 0.021521540613174437, 0.021695982407331466, 0.0217393703854084, 0.02583985698223114, 0.021675815316438675, 0.02084535904288292, 0.021653181051015855, 0.02242604893088341, 0.020962824008464814, 0.021528978031873702, 0.021505401591062547, 0.021924649102687835, 0.02165905627846718, 0.022027752895355225, 0.02196645670771599] gloss: [0.011798070147633552, 0.010810973035693169, 0.010709012394547463, 0.01074710606276989, 0.011801924332976341, 0.011202705263495445, 0.014406018325686455, 0.012898780608773232, 0.014737130368947983, 0.013931955848932266, 0.011012014915347099, 0.010758196967840195, 0.017281566157341003, 0.010646673982143402, 0.011994876592755317, 0.011045916286110877, 0.010870529225468635, 0.010797102460861206, 0.011382918720245362, 0.010843679735064506, 0.010989570422172546, 0.01156930626988411, 0.010529045128226281, 0.012616356949806213, 0.010821694731712342, 0.011716049141287804, 0.010893728842139244, 0.011035537013411522, 0.01092226823568344, 0.011692519651651382, 0.01176801135957241, 0.010718168870806694, 0.010855726705789565, 0.011198900325894356, 0.011958569126725197]\n",
            "Epoch 35: Train dloss: [0.02147960855452767, 0.021540217524991318, 0.021695112950231757, 0.021454151831429305, 0.021601424745416698, 0.02063115760739618, 0.021555065221572824, 0.02091799796098241, 0.021668000614201335, 0.021322086124685245, 0.02153394039710892, 0.021342129401756494, 0.02142588824281829, 0.02140290816656812, 0.02159922310200809, 0.02111065491719828, 0.02163409036264044, 0.02165716350239767, 0.02150536811976248, 0.021645364836444594, 0.021481445927879213, 0.02163634413656716, 0.02166030982140516, 0.021667000890019227, 0.021418523224280075, 0.021246845393498096, 0.02158817139990477, 0.021314447873811246, 0.021022058041378737, 0.021546009768931947, 0.02152680665606617, 0.021668973432914126, 0.021654392807183644, 0.021599857476308996, 0.021402159577490365, 0.02166932231921854] gloss: [0.011387875150713902, 0.011131908402434783, 0.011007439926118941, 0.01178400181966351, 0.010983189933505456, 0.013339423190510652, 0.011236528014884974, 0.011785265195367963, 0.011073938095927896, 0.0115507153310308, 0.011198410757231577, 0.011768293980413829, 0.01367301266701315, 0.0114006300627222, 0.0109391172091823, 0.011821392911099689, 0.010953944150967272, 0.01098573157522926, 0.011264333304337062, 0.011245323652159413, 0.01142535555555079, 0.011000241939624612, 0.011004525151370842, 0.012731478167568559, 0.011618211137144483, 0.011572995312844312, 0.011204667924293659, 0.01154292746822305, 0.012325176500651834, 0.011367094256415623, 0.011009628160521305, 0.01094991822142852, 0.010953023088026252, 0.011041667340323157, 0.012104502804240292, 0.010956511741421112], Valid dloss: [0.0213722388446331, 0.021729616552591324, 0.024624178606271745, 0.02151802406668663, 0.020226411002874374, 0.020794052468538285, 0.021853674018383028, 0.023333476781845094, 0.020879102391004562, 0.02044464944958687, 0.021608176658153535, 0.021453955246210098, 0.02256894648194313, 0.02174500736117363, 0.019796084567308424, 0.021756853432655335, 0.02170030955672264, 0.021663997098207474, 0.019780776582956315, 0.02161187252640724, 0.021521540613174437, 0.021695982407331466, 0.0217393703854084, 0.02583985698223114, 0.021675815316438675, 0.02084535904288292, 0.021653181051015855, 0.02242604893088341, 0.020962824008464814, 0.021528978031873702, 0.021505401591062547, 0.021924649102687835, 0.02165905627846718, 0.022027752895355225, 0.02196645670771599, 0.021469041237831117] gloss: [0.011798070147633552, 0.010810973035693169, 0.010709012394547463, 0.01074710606276989, 0.011801924332976341, 0.011202705263495445, 0.014406018325686455, 0.012898780608773232, 0.014737130368947983, 0.013931955848932266, 0.011012014915347099, 0.010758196967840195, 0.017281566157341003, 0.010646673982143402, 0.011994876592755317, 0.011045916286110877, 0.010870529225468635, 0.010797102460861206, 0.011382918720245362, 0.010843679735064506, 0.010989570422172546, 0.01156930626988411, 0.010529045128226281, 0.012616356949806213, 0.010821694731712342, 0.011716049141287804, 0.010893728842139244, 0.011035537013411522, 0.01092226823568344, 0.011692519651651382, 0.01176801135957241, 0.010718168870806694, 0.010855726705789565, 0.011198900325894356, 0.011958569126725197, 0.01095022665143013]\n",
            "Epoch 36: Train dloss: [0.02147960855452767, 0.021540217524991318, 0.021695112950231757, 0.021454151831429305, 0.021601424745416698, 0.02063115760739618, 0.021555065221572824, 0.02091799796098241, 0.021668000614201335, 0.021322086124685245, 0.02153394039710892, 0.021342129401756494, 0.02142588824281829, 0.02140290816656812, 0.02159922310200809, 0.02111065491719828, 0.02163409036264044, 0.02165716350239767, 0.02150536811976248, 0.021645364836444594, 0.021481445927879213, 0.02163634413656716, 0.02166030982140516, 0.021667000890019227, 0.021418523224280075, 0.021246845393498096, 0.02158817139990477, 0.021314447873811246, 0.021022058041378737, 0.021546009768931947, 0.02152680665606617, 0.021668973432914126, 0.021654392807183644, 0.021599857476308996, 0.021402159577490365, 0.02166932231921854, 0.02148332949450095] gloss: [0.011387875150713902, 0.011131908402434783, 0.011007439926118941, 0.01178400181966351, 0.010983189933505456, 0.013339423190510652, 0.011236528014884974, 0.011785265195367963, 0.011073938095927896, 0.0115507153310308, 0.011198410757231577, 0.011768293980413829, 0.01367301266701315, 0.0114006300627222, 0.0109391172091823, 0.011821392911099689, 0.010953944150967272, 0.01098573157522926, 0.011264333304337062, 0.011245323652159413, 0.01142535555555079, 0.011000241939624612, 0.011004525151370842, 0.012731478167568559, 0.011618211137144483, 0.011572995312844312, 0.011204667924293659, 0.01154292746822305, 0.012325176500651834, 0.011367094256415623, 0.011009628160521305, 0.01094991822142852, 0.010953023088026252, 0.011041667340323157, 0.012104502804240292, 0.010956511741421112, 0.011362546003242453], Valid dloss: [0.0213722388446331, 0.021729616552591324, 0.024624178606271745, 0.02151802406668663, 0.020226411002874374, 0.020794052468538285, 0.021853674018383028, 0.023333476781845094, 0.020879102391004562, 0.02044464944958687, 0.021608176658153535, 0.021453955246210098, 0.02256894648194313, 0.02174500736117363, 0.019796084567308424, 0.021756853432655335, 0.02170030955672264, 0.021663997098207474, 0.019780776582956315, 0.02161187252640724, 0.021521540613174437, 0.021695982407331466, 0.0217393703854084, 0.02583985698223114, 0.021675815316438675, 0.02084535904288292, 0.021653181051015855, 0.02242604893088341, 0.020962824008464814, 0.021528978031873702, 0.021505401591062547, 0.021924649102687835, 0.02165905627846718, 0.022027752895355225, 0.02196645670771599, 0.021469041237831117, 0.020500438129901887] gloss: [0.011798070147633552, 0.010810973035693169, 0.010709012394547463, 0.01074710606276989, 0.011801924332976341, 0.011202705263495445, 0.014406018325686455, 0.012898780608773232, 0.014737130368947983, 0.013931955848932266, 0.011012014915347099, 0.010758196967840195, 0.017281566157341003, 0.010646673982143402, 0.011994876592755317, 0.011045916286110877, 0.010870529225468635, 0.010797102460861206, 0.011382918720245362, 0.010843679735064506, 0.010989570422172546, 0.01156930626988411, 0.010529045128226281, 0.012616356949806213, 0.010821694731712342, 0.011716049141287804, 0.010893728842139244, 0.011035537013411522, 0.01092226823568344, 0.011692519651651382, 0.01176801135957241, 0.010718168870806694, 0.010855726705789565, 0.011198900325894356, 0.011958569126725197, 0.01095022665143013, 0.010581512925624847]\n",
            "Epoch 37: Train dloss: [0.02147960855452767, 0.021540217524991318, 0.021695112950231757, 0.021454151831429305, 0.021601424745416698, 0.02063115760739618, 0.021555065221572824, 0.02091799796098241, 0.021668000614201335, 0.021322086124685245, 0.02153394039710892, 0.021342129401756494, 0.02142588824281829, 0.02140290816656812, 0.02159922310200809, 0.02111065491719828, 0.02163409036264044, 0.02165716350239767, 0.02150536811976248, 0.021645364836444594, 0.021481445927879213, 0.02163634413656716, 0.02166030982140516, 0.021667000890019227, 0.021418523224280075, 0.021246845393498096, 0.02158817139990477, 0.021314447873811246, 0.021022058041378737, 0.021546009768931947, 0.02152680665606617, 0.021668973432914126, 0.021654392807183644, 0.021599857476308996, 0.021402159577490365, 0.02166932231921854, 0.02148332949450095, 0.021105355851594267] gloss: [0.011387875150713902, 0.011131908402434783, 0.011007439926118941, 0.01178400181966351, 0.010983189933505456, 0.013339423190510652, 0.011236528014884974, 0.011785265195367963, 0.011073938095927896, 0.0115507153310308, 0.011198410757231577, 0.011768293980413829, 0.01367301266701315, 0.0114006300627222, 0.0109391172091823, 0.011821392911099689, 0.010953944150967272, 0.01098573157522926, 0.011264333304337062, 0.011245323652159413, 0.01142535555555079, 0.011000241939624612, 0.011004525151370842, 0.012731478167568559, 0.011618211137144483, 0.011572995312844312, 0.011204667924293659, 0.01154292746822305, 0.012325176500651834, 0.011367094256415623, 0.011009628160521305, 0.01094991822142852, 0.010953023088026252, 0.011041667340323157, 0.012104502804240292, 0.010956511741421112, 0.011362546003242453, 0.012221540365423939], Valid dloss: [0.0213722388446331, 0.021729616552591324, 0.024624178606271745, 0.02151802406668663, 0.020226411002874374, 0.020794052468538285, 0.021853674018383028, 0.023333476781845094, 0.020879102391004562, 0.02044464944958687, 0.021608176658153535, 0.021453955246210098, 0.02256894648194313, 0.02174500736117363, 0.019796084567308424, 0.021756853432655335, 0.02170030955672264, 0.021663997098207474, 0.019780776582956315, 0.02161187252640724, 0.021521540613174437, 0.021695982407331466, 0.0217393703854084, 0.02583985698223114, 0.021675815316438675, 0.02084535904288292, 0.021653181051015855, 0.02242604893088341, 0.020962824008464814, 0.021528978031873702, 0.021505401591062547, 0.021924649102687835, 0.02165905627846718, 0.022027752895355225, 0.02196645670771599, 0.021469041237831117, 0.020500438129901887, 0.021918010643720627] gloss: [0.011798070147633552, 0.010810973035693169, 0.010709012394547463, 0.01074710606276989, 0.011801924332976341, 0.011202705263495445, 0.014406018325686455, 0.012898780608773232, 0.014737130368947983, 0.013931955848932266, 0.011012014915347099, 0.010758196967840195, 0.017281566157341003, 0.010646673982143402, 0.011994876592755317, 0.011045916286110877, 0.010870529225468635, 0.010797102460861206, 0.011382918720245362, 0.010843679735064506, 0.010989570422172546, 0.01156930626988411, 0.010529045128226281, 0.012616356949806213, 0.010821694731712342, 0.011716049141287804, 0.010893728842139244, 0.011035537013411522, 0.01092226823568344, 0.011692519651651382, 0.01176801135957241, 0.010718168870806694, 0.010855726705789565, 0.011198900325894356, 0.011958569126725197, 0.01095022665143013, 0.010581512925624847, 0.010509258710741997]\n",
            "Epoch 38: Train dloss: [0.02147960855452767, 0.021540217524991318, 0.021695112950231757, 0.021454151831429305, 0.021601424745416698, 0.02063115760739618, 0.021555065221572824, 0.02091799796098241, 0.021668000614201335, 0.021322086124685245, 0.02153394039710892, 0.021342129401756494, 0.02142588824281829, 0.02140290816656812, 0.02159922310200809, 0.02111065491719828, 0.02163409036264044, 0.02165716350239767, 0.02150536811976248, 0.021645364836444594, 0.021481445927879213, 0.02163634413656716, 0.02166030982140516, 0.021667000890019227, 0.021418523224280075, 0.021246845393498096, 0.02158817139990477, 0.021314447873811246, 0.021022058041378737, 0.021546009768931947, 0.02152680665606617, 0.021668973432914126, 0.021654392807183644, 0.021599857476308996, 0.021402159577490365, 0.02166932231921854, 0.02148332949450095, 0.021105355851594267, 0.021654483292876586] gloss: [0.011387875150713902, 0.011131908402434783, 0.011007439926118941, 0.01178400181966351, 0.010983189933505456, 0.013339423190510652, 0.011236528014884974, 0.011785265195367963, 0.011073938095927896, 0.0115507153310308, 0.011198410757231577, 0.011768293980413829, 0.01367301266701315, 0.0114006300627222, 0.0109391172091823, 0.011821392911099689, 0.010953944150967272, 0.01098573157522926, 0.011264333304337062, 0.011245323652159413, 0.01142535555555079, 0.011000241939624612, 0.011004525151370842, 0.012731478167568559, 0.011618211137144483, 0.011572995312844312, 0.011204667924293659, 0.01154292746822305, 0.012325176500651834, 0.011367094256415623, 0.011009628160521305, 0.01094991822142852, 0.010953023088026252, 0.011041667340323157, 0.012104502804240292, 0.010956511741421112, 0.011362546003242453, 0.012221540365423939, 0.01089882426186159], Valid dloss: [0.0213722388446331, 0.021729616552591324, 0.024624178606271745, 0.02151802406668663, 0.020226411002874374, 0.020794052468538285, 0.021853674018383028, 0.023333476781845094, 0.020879102391004562, 0.02044464944958687, 0.021608176658153535, 0.021453955246210098, 0.02256894648194313, 0.02174500736117363, 0.019796084567308424, 0.021756853432655335, 0.02170030955672264, 0.021663997098207474, 0.019780776582956315, 0.02161187252640724, 0.021521540613174437, 0.021695982407331466, 0.0217393703854084, 0.02583985698223114, 0.021675815316438675, 0.02084535904288292, 0.021653181051015855, 0.02242604893088341, 0.020962824008464814, 0.021528978031873702, 0.021505401591062547, 0.021924649102687835, 0.02165905627846718, 0.022027752895355225, 0.02196645670771599, 0.021469041237831117, 0.020500438129901887, 0.021918010643720627, 0.021747958805561067] gloss: [0.011798070147633552, 0.010810973035693169, 0.010709012394547463, 0.01074710606276989, 0.011801924332976341, 0.011202705263495445, 0.014406018325686455, 0.012898780608773232, 0.014737130368947983, 0.013931955848932266, 0.011012014915347099, 0.010758196967840195, 0.017281566157341003, 0.010646673982143402, 0.011994876592755317, 0.011045916286110877, 0.010870529225468635, 0.010797102460861206, 0.011382918720245362, 0.010843679735064506, 0.010989570422172546, 0.01156930626988411, 0.010529045128226281, 0.012616356949806213, 0.010821694731712342, 0.011716049141287804, 0.010893728842139244, 0.011035537013411522, 0.01092226823568344, 0.011692519651651382, 0.01176801135957241, 0.010718168870806694, 0.010855726705789565, 0.011198900325894356, 0.011958569126725197, 0.01095022665143013, 0.010581512925624847, 0.010509258710741997, 0.011140819603204727]\n",
            "Epoch 39: Train dloss: [0.02147960855452767, 0.021540217524991318, 0.021695112950231757, 0.021454151831429305, 0.021601424745416698, 0.02063115760739618, 0.021555065221572824, 0.02091799796098241, 0.021668000614201335, 0.021322086124685245, 0.02153394039710892, 0.021342129401756494, 0.02142588824281829, 0.02140290816656812, 0.02159922310200809, 0.02111065491719828, 0.02163409036264044, 0.02165716350239767, 0.02150536811976248, 0.021645364836444594, 0.021481445927879213, 0.02163634413656716, 0.02166030982140516, 0.021667000890019227, 0.021418523224280075, 0.021246845393498096, 0.02158817139990477, 0.021314447873811246, 0.021022058041378737, 0.021546009768931947, 0.02152680665606617, 0.021668973432914126, 0.021654392807183644, 0.021599857476308996, 0.021402159577490365, 0.02166932231921854, 0.02148332949450095, 0.021105355851594267, 0.021654483292876586, 0.021666517580712304] gloss: [0.011387875150713902, 0.011131908402434783, 0.011007439926118941, 0.01178400181966351, 0.010983189933505456, 0.013339423190510652, 0.011236528014884974, 0.011785265195367963, 0.011073938095927896, 0.0115507153310308, 0.011198410757231577, 0.011768293980413829, 0.01367301266701315, 0.0114006300627222, 0.0109391172091823, 0.011821392911099689, 0.010953944150967272, 0.01098573157522926, 0.011264333304337062, 0.011245323652159413, 0.01142535555555079, 0.011000241939624612, 0.011004525151370842, 0.012731478167568559, 0.011618211137144483, 0.011572995312844312, 0.011204667924293659, 0.01154292746822305, 0.012325176500651834, 0.011367094256415623, 0.011009628160521305, 0.01094991822142852, 0.010953023088026252, 0.011041667340323157, 0.012104502804240292, 0.010956511741421112, 0.011362546003242453, 0.012221540365423939, 0.01089882426186159, 0.010904052449195985], Valid dloss: [0.0213722388446331, 0.021729616552591324, 0.024624178606271745, 0.02151802406668663, 0.020226411002874374, 0.020794052468538285, 0.021853674018383028, 0.023333476781845094, 0.020879102391004562, 0.02044464944958687, 0.021608176658153535, 0.021453955246210098, 0.02256894648194313, 0.02174500736117363, 0.019796084567308424, 0.021756853432655335, 0.02170030955672264, 0.021663997098207474, 0.019780776582956315, 0.02161187252640724, 0.021521540613174437, 0.021695982407331466, 0.0217393703854084, 0.02583985698223114, 0.021675815316438675, 0.02084535904288292, 0.021653181051015855, 0.02242604893088341, 0.020962824008464814, 0.021528978031873702, 0.021505401591062547, 0.021924649102687835, 0.02165905627846718, 0.022027752895355225, 0.02196645670771599, 0.021469041237831117, 0.020500438129901887, 0.021918010643720627, 0.021747958805561067, 0.021828392606973647] gloss: [0.011798070147633552, 0.010810973035693169, 0.010709012394547463, 0.01074710606276989, 0.011801924332976341, 0.011202705263495445, 0.014406018325686455, 0.012898780608773232, 0.014737130368947983, 0.013931955848932266, 0.011012014915347099, 0.010758196967840195, 0.017281566157341003, 0.010646673982143402, 0.011994876592755317, 0.011045916286110877, 0.010870529225468635, 0.010797102460861206, 0.011382918720245362, 0.010843679735064506, 0.010989570422172546, 0.01156930626988411, 0.010529045128226281, 0.012616356949806213, 0.010821694731712342, 0.011716049141287804, 0.010893728842139244, 0.011035537013411522, 0.01092226823568344, 0.011692519651651382, 0.01176801135957241, 0.010718168870806694, 0.010855726705789565, 0.011198900325894356, 0.011958569126725197, 0.01095022665143013, 0.010581512925624847, 0.010509258710741997, 0.011140819603204727, 0.01046706309914589]\n",
            "Epoch 40: Train dloss: [0.02147960855452767, 0.021540217524991318, 0.021695112950231757, 0.021454151831429305, 0.021601424745416698, 0.02063115760739618, 0.021555065221572824, 0.02091799796098241, 0.021668000614201335, 0.021322086124685245, 0.02153394039710892, 0.021342129401756494, 0.02142588824281829, 0.02140290816656812, 0.02159922310200809, 0.02111065491719828, 0.02163409036264044, 0.02165716350239767, 0.02150536811976248, 0.021645364836444594, 0.021481445927879213, 0.02163634413656716, 0.02166030982140516, 0.021667000890019227, 0.021418523224280075, 0.021246845393498096, 0.02158817139990477, 0.021314447873811246, 0.021022058041378737, 0.021546009768931947, 0.02152680665606617, 0.021668973432914126, 0.021654392807183644, 0.021599857476308996, 0.021402159577490365, 0.02166932231921854, 0.02148332949450095, 0.021105355851594267, 0.021654483292876586, 0.021666517580712304, 0.020134593397864945] gloss: [0.011387875150713902, 0.011131908402434783, 0.011007439926118941, 0.01178400181966351, 0.010983189933505456, 0.013339423190510652, 0.011236528014884974, 0.011785265195367963, 0.011073938095927896, 0.0115507153310308, 0.011198410757231577, 0.011768293980413829, 0.01367301266701315, 0.0114006300627222, 0.0109391172091823, 0.011821392911099689, 0.010953944150967272, 0.01098573157522926, 0.011264333304337062, 0.011245323652159413, 0.01142535555555079, 0.011000241939624612, 0.011004525151370842, 0.012731478167568559, 0.011618211137144483, 0.011572995312844312, 0.011204667924293659, 0.01154292746822305, 0.012325176500651834, 0.011367094256415623, 0.011009628160521305, 0.01094991822142852, 0.010953023088026252, 0.011041667340323157, 0.012104502804240292, 0.010956511741421112, 0.011362546003242453, 0.012221540365423939, 0.01089882426186159, 0.010904052449195985, 0.012139412237050744], Valid dloss: [0.0213722388446331, 0.021729616552591324, 0.024624178606271745, 0.02151802406668663, 0.020226411002874374, 0.020794052468538285, 0.021853674018383028, 0.023333476781845094, 0.020879102391004562, 0.02044464944958687, 0.021608176658153535, 0.021453955246210098, 0.02256894648194313, 0.02174500736117363, 0.019796084567308424, 0.021756853432655335, 0.02170030955672264, 0.021663997098207474, 0.019780776582956315, 0.02161187252640724, 0.021521540613174437, 0.021695982407331466, 0.0217393703854084, 0.02583985698223114, 0.021675815316438675, 0.02084535904288292, 0.021653181051015855, 0.02242604893088341, 0.020962824008464814, 0.021528978031873702, 0.021505401591062547, 0.021924649102687835, 0.02165905627846718, 0.022027752895355225, 0.02196645670771599, 0.021469041237831117, 0.020500438129901887, 0.021918010643720627, 0.021747958805561067, 0.021828392606973647, 0.014943122450113297] gloss: [0.011798070147633552, 0.010810973035693169, 0.010709012394547463, 0.01074710606276989, 0.011801924332976341, 0.011202705263495445, 0.014406018325686455, 0.012898780608773232, 0.014737130368947983, 0.013931955848932266, 0.011012014915347099, 0.010758196967840195, 0.017281566157341003, 0.010646673982143402, 0.011994876592755317, 0.011045916286110877, 0.010870529225468635, 0.010797102460861206, 0.011382918720245362, 0.010843679735064506, 0.010989570422172546, 0.01156930626988411, 0.010529045128226281, 0.012616356949806213, 0.010821694731712342, 0.011716049141287804, 0.010893728842139244, 0.011035537013411522, 0.01092226823568344, 0.011692519651651382, 0.01176801135957241, 0.010718168870806694, 0.010855726705789565, 0.011198900325894356, 0.011958569126725197, 0.01095022665143013, 0.010581512925624847, 0.010509258710741997, 0.011140819603204727, 0.01046706309914589, 0.017170038088560106]\n",
            "Epoch 41: Train dloss: [0.02147960855452767, 0.021540217524991318, 0.021695112950231757, 0.021454151831429305, 0.021601424745416698, 0.02063115760739618, 0.021555065221572824, 0.02091799796098241, 0.021668000614201335, 0.021322086124685245, 0.02153394039710892, 0.021342129401756494, 0.02142588824281829, 0.02140290816656812, 0.02159922310200809, 0.02111065491719828, 0.02163409036264044, 0.02165716350239767, 0.02150536811976248, 0.021645364836444594, 0.021481445927879213, 0.02163634413656716, 0.02166030982140516, 0.021667000890019227, 0.021418523224280075, 0.021246845393498096, 0.02158817139990477, 0.021314447873811246, 0.021022058041378737, 0.021546009768931947, 0.02152680665606617, 0.021668973432914126, 0.021654392807183644, 0.021599857476308996, 0.021402159577490365, 0.02166932231921854, 0.02148332949450095, 0.021105355851594267, 0.021654483292876586, 0.021666517580712304, 0.020134593397864945, 0.017101366067950527] gloss: [0.011387875150713902, 0.011131908402434783, 0.011007439926118941, 0.01178400181966351, 0.010983189933505456, 0.013339423190510652, 0.011236528014884974, 0.011785265195367963, 0.011073938095927896, 0.0115507153310308, 0.011198410757231577, 0.011768293980413829, 0.01367301266701315, 0.0114006300627222, 0.0109391172091823, 0.011821392911099689, 0.010953944150967272, 0.01098573157522926, 0.011264333304337062, 0.011245323652159413, 0.01142535555555079, 0.011000241939624612, 0.011004525151370842, 0.012731478167568559, 0.011618211137144483, 0.011572995312844312, 0.011204667924293659, 0.01154292746822305, 0.012325176500651834, 0.011367094256415623, 0.011009628160521305, 0.01094991822142852, 0.010953023088026252, 0.011041667340323157, 0.012104502804240292, 0.010956511741421112, 0.011362546003242453, 0.012221540365423939, 0.01089882426186159, 0.010904052449195985, 0.012139412237050744, 0.016448555798004916], Valid dloss: [0.0213722388446331, 0.021729616552591324, 0.024624178606271745, 0.02151802406668663, 0.020226411002874374, 0.020794052468538285, 0.021853674018383028, 0.023333476781845094, 0.020879102391004562, 0.02044464944958687, 0.021608176658153535, 0.021453955246210098, 0.02256894648194313, 0.02174500736117363, 0.019796084567308424, 0.021756853432655335, 0.02170030955672264, 0.021663997098207474, 0.019780776582956315, 0.02161187252640724, 0.021521540613174437, 0.021695982407331466, 0.0217393703854084, 0.02583985698223114, 0.021675815316438675, 0.02084535904288292, 0.021653181051015855, 0.02242604893088341, 0.020962824008464814, 0.021528978031873702, 0.021505401591062547, 0.021924649102687835, 0.02165905627846718, 0.022027752895355225, 0.02196645670771599, 0.021469041237831117, 0.020500438129901887, 0.021918010643720627, 0.021747958805561067, 0.021828392606973647, 0.014943122450113297, 0.009918749930262566] gloss: [0.011798070147633552, 0.010810973035693169, 0.010709012394547463, 0.01074710606276989, 0.011801924332976341, 0.011202705263495445, 0.014406018325686455, 0.012898780608773232, 0.014737130368947983, 0.013931955848932266, 0.011012014915347099, 0.010758196967840195, 0.017281566157341003, 0.010646673982143402, 0.011994876592755317, 0.011045916286110877, 0.010870529225468635, 0.010797102460861206, 0.011382918720245362, 0.010843679735064506, 0.010989570422172546, 0.01156930626988411, 0.010529045128226281, 0.012616356949806213, 0.010821694731712342, 0.011716049141287804, 0.010893728842139244, 0.011035537013411522, 0.01092226823568344, 0.011692519651651382, 0.01176801135957241, 0.010718168870806694, 0.010855726705789565, 0.011198900325894356, 0.011958569126725197, 0.01095022665143013, 0.010581512925624847, 0.010509258710741997, 0.011140819603204727, 0.01046706309914589, 0.017170038088560106, 0.0216047800719738]\n",
            "Epoch 42: Train dloss: [0.02147960855452767, 0.021540217524991318, 0.021695112950231757, 0.021454151831429305, 0.021601424745416698, 0.02063115760739618, 0.021555065221572824, 0.02091799796098241, 0.021668000614201335, 0.021322086124685245, 0.02153394039710892, 0.021342129401756494, 0.02142588824281829, 0.02140290816656812, 0.02159922310200809, 0.02111065491719828, 0.02163409036264044, 0.02165716350239767, 0.02150536811976248, 0.021645364836444594, 0.021481445927879213, 0.02163634413656716, 0.02166030982140516, 0.021667000890019227, 0.021418523224280075, 0.021246845393498096, 0.02158817139990477, 0.021314447873811246, 0.021022058041378737, 0.021546009768931947, 0.02152680665606617, 0.021668973432914126, 0.021654392807183644, 0.021599857476308996, 0.021402159577490365, 0.02166932231921854, 0.02148332949450095, 0.021105355851594267, 0.021654483292876586, 0.021666517580712304, 0.020134593397864945, 0.017101366067950527, 0.023314675425604246] gloss: [0.011387875150713902, 0.011131908402434783, 0.011007439926118941, 0.01178400181966351, 0.010983189933505456, 0.013339423190510652, 0.011236528014884974, 0.011785265195367963, 0.011073938095927896, 0.0115507153310308, 0.011198410757231577, 0.011768293980413829, 0.01367301266701315, 0.0114006300627222, 0.0109391172091823, 0.011821392911099689, 0.010953944150967272, 0.01098573157522926, 0.011264333304337062, 0.011245323652159413, 0.01142535555555079, 0.011000241939624612, 0.011004525151370842, 0.012731478167568559, 0.011618211137144483, 0.011572995312844312, 0.011204667924293659, 0.01154292746822305, 0.012325176500651834, 0.011367094256415623, 0.011009628160521305, 0.01094991822142852, 0.010953023088026252, 0.011041667340323157, 0.012104502804240292, 0.010956511741421112, 0.011362546003242453, 0.012221540365423939, 0.01089882426186159, 0.010904052449195985, 0.012139412237050744, 0.016448555798004916, 0.01265582498600269], Valid dloss: [0.0213722388446331, 0.021729616552591324, 0.024624178606271745, 0.02151802406668663, 0.020226411002874374, 0.020794052468538285, 0.021853674018383028, 0.023333476781845094, 0.020879102391004562, 0.02044464944958687, 0.021608176658153535, 0.021453955246210098, 0.02256894648194313, 0.02174500736117363, 0.019796084567308424, 0.021756853432655335, 0.02170030955672264, 0.021663997098207474, 0.019780776582956315, 0.02161187252640724, 0.021521540613174437, 0.021695982407331466, 0.0217393703854084, 0.02583985698223114, 0.021675815316438675, 0.02084535904288292, 0.021653181051015855, 0.02242604893088341, 0.020962824008464814, 0.021528978031873702, 0.021505401591062547, 0.021924649102687835, 0.02165905627846718, 0.022027752895355225, 0.02196645670771599, 0.021469041237831117, 0.020500438129901887, 0.021918010643720627, 0.021747958805561067, 0.021828392606973647, 0.014943122450113297, 0.009918749930262566, 0.019460334095954896] gloss: [0.011798070147633552, 0.010810973035693169, 0.010709012394547463, 0.01074710606276989, 0.011801924332976341, 0.011202705263495445, 0.014406018325686455, 0.012898780608773232, 0.014737130368947983, 0.013931955848932266, 0.011012014915347099, 0.010758196967840195, 0.017281566157341003, 0.010646673982143402, 0.011994876592755317, 0.011045916286110877, 0.010870529225468635, 0.010797102460861206, 0.011382918720245362, 0.010843679735064506, 0.010989570422172546, 0.01156930626988411, 0.010529045128226281, 0.012616356949806213, 0.010821694731712342, 0.011716049141287804, 0.010893728842139244, 0.011035537013411522, 0.01092226823568344, 0.011692519651651382, 0.01176801135957241, 0.010718168870806694, 0.010855726705789565, 0.011198900325894356, 0.011958569126725197, 0.01095022665143013, 0.010581512925624847, 0.010509258710741997, 0.011140819603204727, 0.01046706309914589, 0.017170038088560106, 0.0216047800719738, 0.012525704772472382]\n",
            "Epoch 43: Train dloss: [0.02147960855452767, 0.021540217524991318, 0.021695112950231757, 0.021454151831429305, 0.021601424745416698, 0.02063115760739618, 0.021555065221572824, 0.02091799796098241, 0.021668000614201335, 0.021322086124685245, 0.02153394039710892, 0.021342129401756494, 0.02142588824281829, 0.02140290816656812, 0.02159922310200809, 0.02111065491719828, 0.02163409036264044, 0.02165716350239767, 0.02150536811976248, 0.021645364836444594, 0.021481445927879213, 0.02163634413656716, 0.02166030982140516, 0.021667000890019227, 0.021418523224280075, 0.021246845393498096, 0.02158817139990477, 0.021314447873811246, 0.021022058041378737, 0.021546009768931947, 0.02152680665606617, 0.021668973432914126, 0.021654392807183644, 0.021599857476308996, 0.021402159577490365, 0.02166932231921854, 0.02148332949450095, 0.021105355851594267, 0.021654483292876586, 0.021666517580712304, 0.020134593397864945, 0.017101366067950527, 0.023314675425604246, 0.020225403752391242] gloss: [0.011387875150713902, 0.011131908402434783, 0.011007439926118941, 0.01178400181966351, 0.010983189933505456, 0.013339423190510652, 0.011236528014884974, 0.011785265195367963, 0.011073938095927896, 0.0115507153310308, 0.011198410757231577, 0.011768293980413829, 0.01367301266701315, 0.0114006300627222, 0.0109391172091823, 0.011821392911099689, 0.010953944150967272, 0.01098573157522926, 0.011264333304337062, 0.011245323652159413, 0.01142535555555079, 0.011000241939624612, 0.011004525151370842, 0.012731478167568559, 0.011618211137144483, 0.011572995312844312, 0.011204667924293659, 0.01154292746822305, 0.012325176500651834, 0.011367094256415623, 0.011009628160521305, 0.01094991822142852, 0.010953023088026252, 0.011041667340323157, 0.012104502804240292, 0.010956511741421112, 0.011362546003242453, 0.012221540365423939, 0.01089882426186159, 0.010904052449195985, 0.012139412237050744, 0.016448555798004916, 0.01265582498600269, 0.012907193844637618], Valid dloss: [0.0213722388446331, 0.021729616552591324, 0.024624178606271745, 0.02151802406668663, 0.020226411002874374, 0.020794052468538285, 0.021853674018383028, 0.023333476781845094, 0.020879102391004562, 0.02044464944958687, 0.021608176658153535, 0.021453955246210098, 0.02256894648194313, 0.02174500736117363, 0.019796084567308424, 0.021756853432655335, 0.02170030955672264, 0.021663997098207474, 0.019780776582956315, 0.02161187252640724, 0.021521540613174437, 0.021695982407331466, 0.0217393703854084, 0.02583985698223114, 0.021675815316438675, 0.02084535904288292, 0.021653181051015855, 0.02242604893088341, 0.020962824008464814, 0.021528978031873702, 0.021505401591062547, 0.021924649102687835, 0.02165905627846718, 0.022027752895355225, 0.02196645670771599, 0.021469041237831117, 0.020500438129901887, 0.021918010643720627, 0.021747958805561067, 0.021828392606973647, 0.014943122450113297, 0.009918749930262566, 0.019460334095954896, 0.01974638308763504] gloss: [0.011798070147633552, 0.010810973035693169, 0.010709012394547463, 0.01074710606276989, 0.011801924332976341, 0.011202705263495445, 0.014406018325686455, 0.012898780608773232, 0.014737130368947983, 0.013931955848932266, 0.011012014915347099, 0.010758196967840195, 0.017281566157341003, 0.010646673982143402, 0.011994876592755317, 0.011045916286110877, 0.010870529225468635, 0.010797102460861206, 0.011382918720245362, 0.010843679735064506, 0.010989570422172546, 0.01156930626988411, 0.010529045128226281, 0.012616356949806213, 0.010821694731712342, 0.011716049141287804, 0.010893728842139244, 0.011035537013411522, 0.01092226823568344, 0.011692519651651382, 0.01176801135957241, 0.010718168870806694, 0.010855726705789565, 0.011198900325894356, 0.011958569126725197, 0.01095022665143013, 0.010581512925624847, 0.010509258710741997, 0.011140819603204727, 0.01046706309914589, 0.017170038088560106, 0.0216047800719738, 0.012525704772472382, 0.013172545060515404]\n",
            "Epoch 44: Train dloss: [0.02147960855452767, 0.021540217524991318, 0.021695112950231757, 0.021454151831429305, 0.021601424745416698, 0.02063115760739618, 0.021555065221572824, 0.02091799796098241, 0.021668000614201335, 0.021322086124685245, 0.02153394039710892, 0.021342129401756494, 0.02142588824281829, 0.02140290816656812, 0.02159922310200809, 0.02111065491719828, 0.02163409036264044, 0.02165716350239767, 0.02150536811976248, 0.021645364836444594, 0.021481445927879213, 0.02163634413656716, 0.02166030982140516, 0.021667000890019227, 0.021418523224280075, 0.021246845393498096, 0.02158817139990477, 0.021314447873811246, 0.021022058041378737, 0.021546009768931947, 0.02152680665606617, 0.021668973432914126, 0.021654392807183644, 0.021599857476308996, 0.021402159577490365, 0.02166932231921854, 0.02148332949450095, 0.021105355851594267, 0.021654483292876586, 0.021666517580712304, 0.020134593397864945, 0.017101366067950527, 0.023314675425604246, 0.020225403752391242, 0.021610473990819303] gloss: [0.011387875150713902, 0.011131908402434783, 0.011007439926118941, 0.01178400181966351, 0.010983189933505456, 0.013339423190510652, 0.011236528014884974, 0.011785265195367963, 0.011073938095927896, 0.0115507153310308, 0.011198410757231577, 0.011768293980413829, 0.01367301266701315, 0.0114006300627222, 0.0109391172091823, 0.011821392911099689, 0.010953944150967272, 0.01098573157522926, 0.011264333304337062, 0.011245323652159413, 0.01142535555555079, 0.011000241939624612, 0.011004525151370842, 0.012731478167568559, 0.011618211137144483, 0.011572995312844312, 0.011204667924293659, 0.01154292746822305, 0.012325176500651834, 0.011367094256415623, 0.011009628160521305, 0.01094991822142852, 0.010953023088026252, 0.011041667340323157, 0.012104502804240292, 0.010956511741421112, 0.011362546003242453, 0.012221540365423939, 0.01089882426186159, 0.010904052449195985, 0.012139412237050744, 0.016448555798004916, 0.01265582498600269, 0.012907193844637618, 0.011056124025033759], Valid dloss: [0.0213722388446331, 0.021729616552591324, 0.024624178606271745, 0.02151802406668663, 0.020226411002874374, 0.020794052468538285, 0.021853674018383028, 0.023333476781845094, 0.020879102391004562, 0.02044464944958687, 0.021608176658153535, 0.021453955246210098, 0.02256894648194313, 0.02174500736117363, 0.019796084567308424, 0.021756853432655335, 0.02170030955672264, 0.021663997098207474, 0.019780776582956315, 0.02161187252640724, 0.021521540613174437, 0.021695982407331466, 0.0217393703854084, 0.02583985698223114, 0.021675815316438675, 0.02084535904288292, 0.021653181051015855, 0.02242604893088341, 0.020962824008464814, 0.021528978031873702, 0.021505401591062547, 0.021924649102687835, 0.02165905627846718, 0.022027752895355225, 0.02196645670771599, 0.021469041237831117, 0.020500438129901887, 0.021918010643720627, 0.021747958805561067, 0.021828392606973647, 0.014943122450113297, 0.009918749930262566, 0.019460334095954896, 0.01974638308763504, 0.023471998155117035] gloss: [0.011798070147633552, 0.010810973035693169, 0.010709012394547463, 0.01074710606276989, 0.011801924332976341, 0.011202705263495445, 0.014406018325686455, 0.012898780608773232, 0.014737130368947983, 0.013931955848932266, 0.011012014915347099, 0.010758196967840195, 0.017281566157341003, 0.010646673982143402, 0.011994876592755317, 0.011045916286110877, 0.010870529225468635, 0.010797102460861206, 0.011382918720245362, 0.010843679735064506, 0.010989570422172546, 0.01156930626988411, 0.010529045128226281, 0.012616356949806213, 0.010821694731712342, 0.011716049141287804, 0.010893728842139244, 0.011035537013411522, 0.01092226823568344, 0.011692519651651382, 0.01176801135957241, 0.010718168870806694, 0.010855726705789565, 0.011198900325894356, 0.011958569126725197, 0.01095022665143013, 0.010581512925624847, 0.010509258710741997, 0.011140819603204727, 0.01046706309914589, 0.017170038088560106, 0.0216047800719738, 0.012525704772472382, 0.013172545060515404, 0.009054123223423957]\n",
            "Epoch 45: Train dloss: [0.02147960855452767, 0.021540217524991318, 0.021695112950231757, 0.021454151831429305, 0.021601424745416698, 0.02063115760739618, 0.021555065221572824, 0.02091799796098241, 0.021668000614201335, 0.021322086124685245, 0.02153394039710892, 0.021342129401756494, 0.02142588824281829, 0.02140290816656812, 0.02159922310200809, 0.02111065491719828, 0.02163409036264044, 0.02165716350239767, 0.02150536811976248, 0.021645364836444594, 0.021481445927879213, 0.02163634413656716, 0.02166030982140516, 0.021667000890019227, 0.021418523224280075, 0.021246845393498096, 0.02158817139990477, 0.021314447873811246, 0.021022058041378737, 0.021546009768931947, 0.02152680665606617, 0.021668973432914126, 0.021654392807183644, 0.021599857476308996, 0.021402159577490365, 0.02166932231921854, 0.02148332949450095, 0.021105355851594267, 0.021654483292876586, 0.021666517580712304, 0.020134593397864945, 0.017101366067950527, 0.023314675425604246, 0.020225403752391242, 0.021610473990819303, 0.02030119434914681] gloss: [0.011387875150713902, 0.011131908402434783, 0.011007439926118941, 0.01178400181966351, 0.010983189933505456, 0.013339423190510652, 0.011236528014884974, 0.011785265195367963, 0.011073938095927896, 0.0115507153310308, 0.011198410757231577, 0.011768293980413829, 0.01367301266701315, 0.0114006300627222, 0.0109391172091823, 0.011821392911099689, 0.010953944150967272, 0.01098573157522926, 0.011264333304337062, 0.011245323652159413, 0.01142535555555079, 0.011000241939624612, 0.011004525151370842, 0.012731478167568559, 0.011618211137144483, 0.011572995312844312, 0.011204667924293659, 0.01154292746822305, 0.012325176500651834, 0.011367094256415623, 0.011009628160521305, 0.01094991822142852, 0.010953023088026252, 0.011041667340323157, 0.012104502804240292, 0.010956511741421112, 0.011362546003242453, 0.012221540365423939, 0.01089882426186159, 0.010904052449195985, 0.012139412237050744, 0.016448555798004916, 0.01265582498600269, 0.012907193844637618, 0.011056124025033759, 0.012690757779346137], Valid dloss: [0.0213722388446331, 0.021729616552591324, 0.024624178606271745, 0.02151802406668663, 0.020226411002874374, 0.020794052468538285, 0.021853674018383028, 0.023333476781845094, 0.020879102391004562, 0.02044464944958687, 0.021608176658153535, 0.021453955246210098, 0.02256894648194313, 0.02174500736117363, 0.019796084567308424, 0.021756853432655335, 0.02170030955672264, 0.021663997098207474, 0.019780776582956315, 0.02161187252640724, 0.021521540613174437, 0.021695982407331466, 0.0217393703854084, 0.02583985698223114, 0.021675815316438675, 0.02084535904288292, 0.021653181051015855, 0.02242604893088341, 0.020962824008464814, 0.021528978031873702, 0.021505401591062547, 0.021924649102687835, 0.02165905627846718, 0.022027752895355225, 0.02196645670771599, 0.021469041237831117, 0.020500438129901887, 0.021918010643720627, 0.021747958805561067, 0.021828392606973647, 0.014943122450113297, 0.009918749930262566, 0.019460334095954896, 0.01974638308763504, 0.023471998155117035, 0.02061139424085617] gloss: [0.011798070147633552, 0.010810973035693169, 0.010709012394547463, 0.01074710606276989, 0.011801924332976341, 0.011202705263495445, 0.014406018325686455, 0.012898780608773232, 0.014737130368947983, 0.013931955848932266, 0.011012014915347099, 0.010758196967840195, 0.017281566157341003, 0.010646673982143402, 0.011994876592755317, 0.011045916286110877, 0.010870529225468635, 0.010797102460861206, 0.011382918720245362, 0.010843679735064506, 0.010989570422172546, 0.01156930626988411, 0.010529045128226281, 0.012616356949806213, 0.010821694731712342, 0.011716049141287804, 0.010893728842139244, 0.011035537013411522, 0.01092226823568344, 0.011692519651651382, 0.01176801135957241, 0.010718168870806694, 0.010855726705789565, 0.011198900325894356, 0.011958569126725197, 0.01095022665143013, 0.010581512925624847, 0.010509258710741997, 0.011140819603204727, 0.01046706309914589, 0.017170038088560106, 0.0216047800719738, 0.012525704772472382, 0.013172545060515404, 0.009054123223423957, 0.011992539878487586]\n",
            "Epoch 46: Train dloss: [0.02147960855452767, 0.021540217524991318, 0.021695112950231757, 0.021454151831429305, 0.021601424745416698, 0.02063115760739618, 0.021555065221572824, 0.02091799796098241, 0.021668000614201335, 0.021322086124685245, 0.02153394039710892, 0.021342129401756494, 0.02142588824281829, 0.02140290816656812, 0.02159922310200809, 0.02111065491719828, 0.02163409036264044, 0.02165716350239767, 0.02150536811976248, 0.021645364836444594, 0.021481445927879213, 0.02163634413656716, 0.02166030982140516, 0.021667000890019227, 0.021418523224280075, 0.021246845393498096, 0.02158817139990477, 0.021314447873811246, 0.021022058041378737, 0.021546009768931947, 0.02152680665606617, 0.021668973432914126, 0.021654392807183644, 0.021599857476308996, 0.021402159577490365, 0.02166932231921854, 0.02148332949450095, 0.021105355851594267, 0.021654483292876586, 0.021666517580712304, 0.020134593397864945, 0.017101366067950527, 0.023314675425604246, 0.020225403752391242, 0.021610473990819303, 0.02030119434914681, 0.020910955997302715] gloss: [0.011387875150713902, 0.011131908402434783, 0.011007439926118941, 0.01178400181966351, 0.010983189933505456, 0.013339423190510652, 0.011236528014884974, 0.011785265195367963, 0.011073938095927896, 0.0115507153310308, 0.011198410757231577, 0.011768293980413829, 0.01367301266701315, 0.0114006300627222, 0.0109391172091823, 0.011821392911099689, 0.010953944150967272, 0.01098573157522926, 0.011264333304337062, 0.011245323652159413, 0.01142535555555079, 0.011000241939624612, 0.011004525151370842, 0.012731478167568559, 0.011618211137144483, 0.011572995312844312, 0.011204667924293659, 0.01154292746822305, 0.012325176500651834, 0.011367094256415623, 0.011009628160521305, 0.01094991822142852, 0.010953023088026252, 0.011041667340323157, 0.012104502804240292, 0.010956511741421112, 0.011362546003242453, 0.012221540365423939, 0.01089882426186159, 0.010904052449195985, 0.012139412237050744, 0.016448555798004916, 0.01265582498600269, 0.012907193844637618, 0.011056124025033759, 0.012690757779346137, 0.012048748679501519], Valid dloss: [0.0213722388446331, 0.021729616552591324, 0.024624178606271745, 0.02151802406668663, 0.020226411002874374, 0.020794052468538285, 0.021853674018383028, 0.023333476781845094, 0.020879102391004562, 0.02044464944958687, 0.021608176658153535, 0.021453955246210098, 0.02256894648194313, 0.02174500736117363, 0.019796084567308424, 0.021756853432655335, 0.02170030955672264, 0.021663997098207474, 0.019780776582956315, 0.02161187252640724, 0.021521540613174437, 0.021695982407331466, 0.0217393703854084, 0.02583985698223114, 0.021675815316438675, 0.02084535904288292, 0.021653181051015855, 0.02242604893088341, 0.020962824008464814, 0.021528978031873702, 0.021505401591062547, 0.021924649102687835, 0.02165905627846718, 0.022027752895355225, 0.02196645670771599, 0.021469041237831117, 0.020500438129901887, 0.021918010643720627, 0.021747958805561067, 0.021828392606973647, 0.014943122450113297, 0.009918749930262566, 0.019460334095954896, 0.01974638308763504, 0.023471998155117035, 0.02061139424085617, 0.021146565589904784] gloss: [0.011798070147633552, 0.010810973035693169, 0.010709012394547463, 0.01074710606276989, 0.011801924332976341, 0.011202705263495445, 0.014406018325686455, 0.012898780608773232, 0.014737130368947983, 0.013931955848932266, 0.011012014915347099, 0.010758196967840195, 0.017281566157341003, 0.010646673982143402, 0.011994876592755317, 0.011045916286110877, 0.010870529225468635, 0.010797102460861206, 0.011382918720245362, 0.010843679735064506, 0.010989570422172546, 0.01156930626988411, 0.010529045128226281, 0.012616356949806213, 0.010821694731712342, 0.011716049141287804, 0.010893728842139244, 0.011035537013411522, 0.01092226823568344, 0.011692519651651382, 0.01176801135957241, 0.010718168870806694, 0.010855726705789565, 0.011198900325894356, 0.011958569126725197, 0.01095022665143013, 0.010581512925624847, 0.010509258710741997, 0.011140819603204727, 0.01046706309914589, 0.017170038088560106, 0.0216047800719738, 0.012525704772472382, 0.013172545060515404, 0.009054123223423957, 0.011992539878487586, 0.012123941785097122]\n",
            "Epoch 47: Train dloss: [0.02147960855452767, 0.021540217524991318, 0.021695112950231757, 0.021454151831429305, 0.021601424745416698, 0.02063115760739618, 0.021555065221572824, 0.02091799796098241, 0.021668000614201335, 0.021322086124685245, 0.02153394039710892, 0.021342129401756494, 0.02142588824281829, 0.02140290816656812, 0.02159922310200809, 0.02111065491719828, 0.02163409036264044, 0.02165716350239767, 0.02150536811976248, 0.021645364836444594, 0.021481445927879213, 0.02163634413656716, 0.02166030982140516, 0.021667000890019227, 0.021418523224280075, 0.021246845393498096, 0.02158817139990477, 0.021314447873811246, 0.021022058041378737, 0.021546009768931947, 0.02152680665606617, 0.021668973432914126, 0.021654392807183644, 0.021599857476308996, 0.021402159577490365, 0.02166932231921854, 0.02148332949450095, 0.021105355851594267, 0.021654483292876586, 0.021666517580712304, 0.020134593397864945, 0.017101366067950527, 0.023314675425604246, 0.020225403752391242, 0.021610473990819303, 0.02030119434914681, 0.020910955997302715, 0.021485661752764316] gloss: [0.011387875150713902, 0.011131908402434783, 0.011007439926118941, 0.01178400181966351, 0.010983189933505456, 0.013339423190510652, 0.011236528014884974, 0.011785265195367963, 0.011073938095927896, 0.0115507153310308, 0.011198410757231577, 0.011768293980413829, 0.01367301266701315, 0.0114006300627222, 0.0109391172091823, 0.011821392911099689, 0.010953944150967272, 0.01098573157522926, 0.011264333304337062, 0.011245323652159413, 0.01142535555555079, 0.011000241939624612, 0.011004525151370842, 0.012731478167568559, 0.011618211137144483, 0.011572995312844312, 0.011204667924293659, 0.01154292746822305, 0.012325176500651834, 0.011367094256415623, 0.011009628160521305, 0.01094991822142852, 0.010953023088026252, 0.011041667340323157, 0.012104502804240292, 0.010956511741421112, 0.011362546003242453, 0.012221540365423939, 0.01089882426186159, 0.010904052449195985, 0.012139412237050744, 0.016448555798004916, 0.01265582498600269, 0.012907193844637618, 0.011056124025033759, 0.012690757779346137, 0.012048748679501519, 0.01129716077477362], Valid dloss: [0.0213722388446331, 0.021729616552591324, 0.024624178606271745, 0.02151802406668663, 0.020226411002874374, 0.020794052468538285, 0.021853674018383028, 0.023333476781845094, 0.020879102391004562, 0.02044464944958687, 0.021608176658153535, 0.021453955246210098, 0.02256894648194313, 0.02174500736117363, 0.019796084567308424, 0.021756853432655335, 0.02170030955672264, 0.021663997098207474, 0.019780776582956315, 0.02161187252640724, 0.021521540613174437, 0.021695982407331466, 0.0217393703854084, 0.02583985698223114, 0.021675815316438675, 0.02084535904288292, 0.021653181051015855, 0.02242604893088341, 0.020962824008464814, 0.021528978031873702, 0.021505401591062547, 0.021924649102687835, 0.02165905627846718, 0.022027752895355225, 0.02196645670771599, 0.021469041237831117, 0.020500438129901887, 0.021918010643720627, 0.021747958805561067, 0.021828392606973647, 0.014943122450113297, 0.009918749930262566, 0.019460334095954896, 0.01974638308763504, 0.023471998155117035, 0.02061139424085617, 0.021146565589904784, 0.020263614513874054] gloss: [0.011798070147633552, 0.010810973035693169, 0.010709012394547463, 0.01074710606276989, 0.011801924332976341, 0.011202705263495445, 0.014406018325686455, 0.012898780608773232, 0.014737130368947983, 0.013931955848932266, 0.011012014915347099, 0.010758196967840195, 0.017281566157341003, 0.010646673982143402, 0.011994876592755317, 0.011045916286110877, 0.010870529225468635, 0.010797102460861206, 0.011382918720245362, 0.010843679735064506, 0.010989570422172546, 0.01156930626988411, 0.010529045128226281, 0.012616356949806213, 0.010821694731712342, 0.011716049141287804, 0.010893728842139244, 0.011035537013411522, 0.01092226823568344, 0.011692519651651382, 0.01176801135957241, 0.010718168870806694, 0.010855726705789565, 0.011198900325894356, 0.011958569126725197, 0.01095022665143013, 0.010581512925624847, 0.010509258710741997, 0.011140819603204727, 0.01046706309914589, 0.017170038088560106, 0.0216047800719738, 0.012525704772472382, 0.013172545060515404, 0.009054123223423957, 0.011992539878487586, 0.012123941785097122, 0.01200498907148838]\n",
            "Epoch 48: Train dloss: [0.02147960855452767, 0.021540217524991318, 0.021695112950231757, 0.021454151831429305, 0.021601424745416698, 0.02063115760739618, 0.021555065221572824, 0.02091799796098241, 0.021668000614201335, 0.021322086124685245, 0.02153394039710892, 0.021342129401756494, 0.02142588824281829, 0.02140290816656812, 0.02159922310200809, 0.02111065491719828, 0.02163409036264044, 0.02165716350239767, 0.02150536811976248, 0.021645364836444594, 0.021481445927879213, 0.02163634413656716, 0.02166030982140516, 0.021667000890019227, 0.021418523224280075, 0.021246845393498096, 0.02158817139990477, 0.021314447873811246, 0.021022058041378737, 0.021546009768931947, 0.02152680665606617, 0.021668973432914126, 0.021654392807183644, 0.021599857476308996, 0.021402159577490365, 0.02166932231921854, 0.02148332949450095, 0.021105355851594267, 0.021654483292876586, 0.021666517580712304, 0.020134593397864945, 0.017101366067950527, 0.023314675425604246, 0.020225403752391242, 0.021610473990819303, 0.02030119434914681, 0.020910955997302715, 0.021485661752764316, 0.021632115626803266] gloss: [0.011387875150713902, 0.011131908402434783, 0.011007439926118941, 0.01178400181966351, 0.010983189933505456, 0.013339423190510652, 0.011236528014884974, 0.011785265195367963, 0.011073938095927896, 0.0115507153310308, 0.011198410757231577, 0.011768293980413829, 0.01367301266701315, 0.0114006300627222, 0.0109391172091823, 0.011821392911099689, 0.010953944150967272, 0.01098573157522926, 0.011264333304337062, 0.011245323652159413, 0.01142535555555079, 0.011000241939624612, 0.011004525151370842, 0.012731478167568559, 0.011618211137144483, 0.011572995312844312, 0.011204667924293659, 0.01154292746822305, 0.012325176500651834, 0.011367094256415623, 0.011009628160521305, 0.01094991822142852, 0.010953023088026252, 0.011041667340323157, 0.012104502804240292, 0.010956511741421112, 0.011362546003242453, 0.012221540365423939, 0.01089882426186159, 0.010904052449195985, 0.012139412237050744, 0.016448555798004916, 0.01265582498600269, 0.012907193844637618, 0.011056124025033759, 0.012690757779346137, 0.012048748679501519, 0.01129716077477362, 0.010990925501041254], Valid dloss: [0.0213722388446331, 0.021729616552591324, 0.024624178606271745, 0.02151802406668663, 0.020226411002874374, 0.020794052468538285, 0.021853674018383028, 0.023333476781845094, 0.020879102391004562, 0.02044464944958687, 0.021608176658153535, 0.021453955246210098, 0.02256894648194313, 0.02174500736117363, 0.019796084567308424, 0.021756853432655335, 0.02170030955672264, 0.021663997098207474, 0.019780776582956315, 0.02161187252640724, 0.021521540613174437, 0.021695982407331466, 0.0217393703854084, 0.02583985698223114, 0.021675815316438675, 0.02084535904288292, 0.021653181051015855, 0.02242604893088341, 0.020962824008464814, 0.021528978031873702, 0.021505401591062547, 0.021924649102687835, 0.02165905627846718, 0.022027752895355225, 0.02196645670771599, 0.021469041237831117, 0.020500438129901887, 0.021918010643720627, 0.021747958805561067, 0.021828392606973647, 0.014943122450113297, 0.009918749930262566, 0.019460334095954896, 0.01974638308763504, 0.023471998155117035, 0.02061139424085617, 0.021146565589904784, 0.020263614513874054, 0.021484915788173676] gloss: [0.011798070147633552, 0.010810973035693169, 0.010709012394547463, 0.01074710606276989, 0.011801924332976341, 0.011202705263495445, 0.014406018325686455, 0.012898780608773232, 0.014737130368947983, 0.013931955848932266, 0.011012014915347099, 0.010758196967840195, 0.017281566157341003, 0.010646673982143402, 0.011994876592755317, 0.011045916286110877, 0.010870529225468635, 0.010797102460861206, 0.011382918720245362, 0.010843679735064506, 0.010989570422172546, 0.01156930626988411, 0.010529045128226281, 0.012616356949806213, 0.010821694731712342, 0.011716049141287804, 0.010893728842139244, 0.011035537013411522, 0.01092226823568344, 0.011692519651651382, 0.01176801135957241, 0.010718168870806694, 0.010855726705789565, 0.011198900325894356, 0.011958569126725197, 0.01095022665143013, 0.010581512925624847, 0.010509258710741997, 0.011140819603204727, 0.01046706309914589, 0.017170038088560106, 0.0216047800719738, 0.012525704772472382, 0.013172545060515404, 0.009054123223423957, 0.011992539878487586, 0.012123941785097122, 0.01200498907148838, 0.010774051996469497]\n",
            "Epoch 49: Train dloss: [0.02147960855452767, 0.021540217524991318, 0.021695112950231757, 0.021454151831429305, 0.021601424745416698, 0.02063115760739618, 0.021555065221572824, 0.02091799796098241, 0.021668000614201335, 0.021322086124685245, 0.02153394039710892, 0.021342129401756494, 0.02142588824281829, 0.02140290816656812, 0.02159922310200809, 0.02111065491719828, 0.02163409036264044, 0.02165716350239767, 0.02150536811976248, 0.021645364836444594, 0.021481445927879213, 0.02163634413656716, 0.02166030982140516, 0.021667000890019227, 0.021418523224280075, 0.021246845393498096, 0.02158817139990477, 0.021314447873811246, 0.021022058041378737, 0.021546009768931947, 0.02152680665606617, 0.021668973432914126, 0.021654392807183644, 0.021599857476308996, 0.021402159577490365, 0.02166932231921854, 0.02148332949450095, 0.021105355851594267, 0.021654483292876586, 0.021666517580712304, 0.020134593397864945, 0.017101366067950527, 0.023314675425604246, 0.020225403752391242, 0.021610473990819303, 0.02030119434914681, 0.020910955997302715, 0.021485661752764316, 0.021632115626803266, 0.021514587163563262] gloss: [0.011387875150713902, 0.011131908402434783, 0.011007439926118941, 0.01178400181966351, 0.010983189933505456, 0.013339423190510652, 0.011236528014884974, 0.011785265195367963, 0.011073938095927896, 0.0115507153310308, 0.011198410757231577, 0.011768293980413829, 0.01367301266701315, 0.0114006300627222, 0.0109391172091823, 0.011821392911099689, 0.010953944150967272, 0.01098573157522926, 0.011264333304337062, 0.011245323652159413, 0.01142535555555079, 0.011000241939624612, 0.011004525151370842, 0.012731478167568559, 0.011618211137144483, 0.011572995312844312, 0.011204667924293659, 0.01154292746822305, 0.012325176500651834, 0.011367094256415623, 0.011009628160521305, 0.01094991822142852, 0.010953023088026252, 0.011041667340323157, 0.012104502804240292, 0.010956511741421112, 0.011362546003242453, 0.012221540365423939, 0.01089882426186159, 0.010904052449195985, 0.012139412237050744, 0.016448555798004916, 0.01265582498600269, 0.012907193844637618, 0.011056124025033759, 0.012690757779346137, 0.012048748679501519, 0.01129716077477362, 0.010990925501041254, 0.010935241422633845], Valid dloss: [0.0213722388446331, 0.021729616552591324, 0.024624178606271745, 0.02151802406668663, 0.020226411002874374, 0.020794052468538285, 0.021853674018383028, 0.023333476781845094, 0.020879102391004562, 0.02044464944958687, 0.021608176658153535, 0.021453955246210098, 0.02256894648194313, 0.02174500736117363, 0.019796084567308424, 0.021756853432655335, 0.02170030955672264, 0.021663997098207474, 0.019780776582956315, 0.02161187252640724, 0.021521540613174437, 0.021695982407331466, 0.0217393703854084, 0.02583985698223114, 0.021675815316438675, 0.02084535904288292, 0.021653181051015855, 0.02242604893088341, 0.020962824008464814, 0.021528978031873702, 0.021505401591062547, 0.021924649102687835, 0.02165905627846718, 0.022027752895355225, 0.02196645670771599, 0.021469041237831117, 0.020500438129901887, 0.021918010643720627, 0.021747958805561067, 0.021828392606973647, 0.014943122450113297, 0.009918749930262566, 0.019460334095954896, 0.01974638308763504, 0.023471998155117035, 0.02061139424085617, 0.021146565589904784, 0.020263614513874054, 0.021484915788173676, 0.013851078276038169] gloss: [0.011798070147633552, 0.010810973035693169, 0.010709012394547463, 0.01074710606276989, 0.011801924332976341, 0.011202705263495445, 0.014406018325686455, 0.012898780608773232, 0.014737130368947983, 0.013931955848932266, 0.011012014915347099, 0.010758196967840195, 0.017281566157341003, 0.010646673982143402, 0.011994876592755317, 0.011045916286110877, 0.010870529225468635, 0.010797102460861206, 0.011382918720245362, 0.010843679735064506, 0.010989570422172546, 0.01156930626988411, 0.010529045128226281, 0.012616356949806213, 0.010821694731712342, 0.011716049141287804, 0.010893728842139244, 0.011035537013411522, 0.01092226823568344, 0.011692519651651382, 0.01176801135957241, 0.010718168870806694, 0.010855726705789565, 0.011198900325894356, 0.011958569126725197, 0.01095022665143013, 0.010581512925624847, 0.010509258710741997, 0.011140819603204727, 0.01046706309914589, 0.017170038088560106, 0.0216047800719738, 0.012525704772472382, 0.013172545060515404, 0.009054123223423957, 0.011992539878487586, 0.012123941785097122, 0.01200498907148838, 0.010774051996469497, 0.016760133656263353]\n"
          ]
        }
      ]
    },
    {
      "cell_type": "code",
      "source": [
        "import matplotlib.pyplot as plt\n",
        "\n",
        "plt.plot(gan.d_losses_train, label='d_losses_train')\n",
        "plt.plot(gan.d_losses_val, label='d_losses_val')\n",
        "plt.legend()\n",
        "plt.show()\n",
        "\n",
        "plt.plot(gan.g_losses_train, label='g_losses_train')\n",
        "plt.plot(gan.g_losses_val, label='g_losses_val')\n",
        "plt.legend()\n",
        "plt.show()"
      ],
      "metadata": {
        "colab": {
          "base_uri": "https://localhost:8080/",
          "height": 514
        },
        "id": "sJ707n5rvzsv",
        "outputId": "425f3e60-0905-4c16-88fd-65a325d47bfa"
      },
      "execution_count": 22,
      "outputs": [
        {
          "output_type": "display_data",
          "data": {
            "text/plain": [
              "<Figure size 432x288 with 1 Axes>"
            ],
            "image/png": "[encoded data removed]"
          },
          "metadata": {
            "needs_background": "light"
          }
        },
        {
          "output_type": "display_data",
          "data": {
            "text/plain": [
              "<Figure size 432x288 with 1 Axes>"
            ],
            "image/png": "[encoded data removed]"
          },
          "metadata": {
            "needs_background": "light"
          }
        }
      ]
    },
    {
      "cell_type": "code",
      "source": [
        ""
      ],
      "metadata": {
        "id": "mKQOKZOS8FGG"
      },
      "execution_count": 65,
      "outputs": []
    },
    {
      "cell_type": "code",
      "source": [
        "Z_SAMPLE_COUNT = 32\n",
        "\n",
        "## TODO: Move into StructuralCausalModel\n",
        "def predict(scm, x, gan, device='cuda'):\n",
        "    x_dup = torch.repeat_interleave(x, Z_SAMPLE_COUNT, dim=0)\n",
        "    z_samples = gan.drawsamples(N=len(x_dup), get_tensor=True)\n",
        "\n",
        "    # x_dup = x_dup.to(device)\n",
        "    # z_samples = z_samples.to(device)\n",
        "\n",
        "    with torch.no_grad():\n",
        "        x_feat = model.text_featurizer(x_dup)\n",
        "        y_pred_logits = model.pthetay_xz(x_feat, z_samples).reshape((x.size(0), Z_SAMPLE_COUNT, -1)).mean(dim=1)\n",
        "\n",
        "    return nn.functional.sigmoid(y_pred_logits)\n"
      ],
      "metadata": {
        "id": "nHhAonKs8g3E"
      },
      "execution_count": 95,
      "outputs": []
    },
    {
      "cell_type": "code",
      "source": [
        "predict(model, X_train_tensor[:64].cuda(), gan).shape"
      ],
      "metadata": {
        "colab": {
          "base_uri": "https://localhost:8080/"
        },
        "id": "JXF_D_-1Dels",
        "outputId": "5eba04ef-ae54-4855-d61e-c54f39a00536"
      },
      "execution_count": 96,
      "outputs": [
        {
          "output_type": "stream",
          "name": "stderr",
          "text": [
            "/usr/local/lib/python3.7/dist-packages/torch/nn/functional.py:1944: UserWarning: nn.functional.sigmoid is deprecated. Use torch.sigmoid instead.\n",
            "  warnings.warn(\"nn.functional.sigmoid is deprecated. Use torch.sigmoid instead.\")\n"
          ]
        },
        {
          "output_type": "execute_result",
          "data": {
            "text/plain": [
              "torch.Size([64, 1])"
            ]
          },
          "metadata": {},
          "execution_count": 96
        }
      ]
    },
    {
      "cell_type": "code",
      "source": [
        ""
      ],
      "metadata": {
        "id": "pJPpPnOyOe1C"
      },
      "execution_count": null,
      "outputs": []
    },
    {
      "cell_type": "code",
      "source": [
        "def predict_dataset(model, X_test, gan, batch_size=256):\n",
        "\n",
        "    model.eval()\n",
        "\n",
        "    with torch.no_grad():\n",
        "\n",
        "        test_size = X_test.shape[0]\n",
        "        test_preds = torch.zeros((test_size, ))\n",
        "\n",
        "        for batch in range(0, test_size, batch_size):\n",
        "\n",
        "            start_index = batch\n",
        "            end_index = min(batch + batch_size, test_size)\n",
        "\n",
        "            batch_X = X_test[start_index:end_index].cuda()\n",
        "\n",
        "            output = predict(model, batch_X, gan)\n",
        "\n",
        "            test_preds[start_index:end_index] = output.squeeze(dim=1).cpu()\n",
        "\n",
        "    model.train()\n",
        "\n",
        "    return test_preds"
      ],
      "metadata": {
        "id": "ucqUaqCHF6Ip"
      },
      "execution_count": 97,
      "outputs": []
    },
    {
      "cell_type": "code",
      "source": [
        "pred_test = predict_dataset(model, X_test_tensor, gan)"
      ],
      "metadata": {
        "colab": {
          "base_uri": "https://localhost:8080/"
        },
        "id": "fkqp4Ol8KqqF",
        "outputId": "6e1c9588-0120-40f1-e38e-160a2ef712c9"
      },
      "execution_count": 98,
      "outputs": [
        {
          "output_type": "stream",
          "name": "stderr",
          "text": [
            "/usr/local/lib/python3.7/dist-packages/torch/nn/functional.py:1944: UserWarning: nn.functional.sigmoid is deprecated. Use torch.sigmoid instead.\n",
            "  warnings.warn(\"nn.functional.sigmoid is deprecated. Use torch.sigmoid instead.\")\n"
          ]
        }
      ]
    },
    {
      "cell_type": "code",
      "source": [
        "# pred_test = predict_dataset(model, X_test_tensor, gan)\n",
        "y_pred = np.round(pred_test.cpu().numpy())\n",
        "\n",
        "print(\"Accuracy: {}\".format(accuracy_score(test_df['label'], y_pred)))"
      ],
      "metadata": {
        "colab": {
          "base_uri": "https://localhost:8080/"
        },
        "id": "Sblcpp-hNLA5",
        "outputId": "a6046b0f-40a3-4064-c2aa-fbedc6f7a16b"
      },
      "execution_count": 99,
      "outputs": [
        {
          "output_type": "stream",
          "name": "stdout",
          "text": [
            "Accuracy: 0.7383\n"
          ]
        }
      ]
    },
    {
      "cell_type": "code",
      "source": [
        "dataset_index"
      ],
      "metadata": {
        "colab": {
          "base_uri": "https://localhost:8080/"
        },
        "id": "rTwSFXlmNK-3",
        "outputId": "df39c511-1a1c-4d85-d250-2782e599c2e6"
      },
      "execution_count": 100,
      "outputs": [
        {
          "output_type": "execute_result",
          "data": {
            "text/plain": [
              "1"
            ]
          },
          "metadata": {},
          "execution_count": 100
        }
      ]
    },
    {
      "cell_type": "code",
      "source": [
        ""
      ],
      "metadata": {
        "id": "vyLCjrvMN9IN"
      },
      "execution_count": 94,
      "outputs": []
    },
    {
      "cell_type": "code",
      "source": [
        ""
      ],
      "metadata": {
        "id": "_yKnBxpBN9D2"
      },
      "execution_count": null,
      "outputs": []
    },
    {
      "cell_type": "code",
      "source": [
        ""
      ],
      "metadata": {
        "id": "lfZmrfd2KqoH"
      },
      "execution_count": null,
      "outputs": []
    }
  ],
  "metadata": {
    "colab": {
      "collapsed_sections": [],
      "machine_shape": "hm",
      "name": "10708_confounder_removal.ipynb",
      "provenance": []
    },
    "kernelspec": {
      "display_name": "Python 3",
      "name": "python3"
    },
    "language_info": {
      "name": "python"
    },
    "accelerator": "GPU"
  },
  "nbformat": 4,
  "nbformat_minor": 0
}